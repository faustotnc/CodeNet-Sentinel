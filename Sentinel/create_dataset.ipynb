{
 "cells": [
  {
   "cell_type": "code",
   "execution_count": 1,
   "metadata": {},
   "outputs": [],
   "source": [
    "import sys\n",
    "\n",
    "if 'google.colab' in sys.modules:\n",
    "    from google.colab import drive\n",
    "    drive.mount('/content/drive')\n",
    "\n",
    "    # Replace with correct location\n",
    "    %cd /content/drive/MyDrive/Colab Notebooks/CodeNet-Sentinel/Decoder\n",
    "\n",
    "    !pip install datasets==2.15.0 transformers lightning wandb"
   ]
  },
  {
   "cell_type": "code",
   "execution_count": 2,
   "metadata": {},
   "outputs": [],
   "source": [
    "import os\n",
    "\n",
    "# To make our imports work because python relative imports suck\n",
    "current_dir = os.getcwd()\n",
    "parent_dir = os.path.dirname(current_dir)\n",
    "sys.path.append(parent_dir)"
   ]
  },
  {
   "cell_type": "code",
   "execution_count": 3,
   "metadata": {},
   "outputs": [
    {
     "name": "stderr",
     "output_type": "stream",
     "text": [
      "/Users/faustogerman/miniforge3/envs/CodeNetSentinel/lib/python3.9/site-packages/tqdm/auto.py:21: TqdmWarning: IProgress not found. Please update jupyter and ipywidgets. See https://ipywidgets.readthedocs.io/en/stable/user_install.html\n",
      "  from .autonotebook import tqdm as notebook_tqdm\n"
     ]
    }
   ],
   "source": [
    "import re\n",
    "import torch\n",
    "\n",
    "import pandas as pd\n",
    "import numpy as np\n",
    "import matplotlib.pyplot as plt\n",
    "\n",
    "from ast import literal_eval\n",
    "from datasets import load_dataset\n",
    "from tqdm import tqdm\n",
    "\n",
    "# Local Modules\n",
    "from Architecture import Tokenizer, VOCAB_SIZE\n",
    "from Architecture.ModelConfig import ModelConfig\n",
    "from Architecture.SentinelTransformer import SentinelDataset"
   ]
  },
  {
   "cell_type": "code",
   "execution_count": 4,
   "metadata": {},
   "outputs": [
    {
     "data": {
      "text/plain": [
       "'2.1.2'"
      ]
     },
     "execution_count": 4,
     "metadata": {},
     "output_type": "execute_result"
    }
   ],
   "source": [
    "CONFIG = ModelConfig()\n",
    "\n",
    "torch.manual_seed(CONFIG.random_seed)\n",
    "torch.__version__"
   ]
  },
  {
   "cell_type": "code",
   "execution_count": 5,
   "metadata": {},
   "outputs": [],
   "source": [
    "all_data = pd.read_feather(\"../Data/extracted/en_data.ftr\")\n",
    "all_data = all_data[[\"problem_id\", \"language\", \"problem_description\", \"solution\", \"status\"]]\n",
    "\n",
    "all_data = all_data[all_data[\"status\"].isin([\n",
    "    \"Accepted\",\n",
    "    \"Wrong Answer\",\n",
    "    \"Runtime Error\",\n",
    "    \"Compile Error\",\n",
    "    \"Time Limit Exceeded\"\n",
    "])]\n",
    "\n",
    "all_data = all_data[all_data[\"language\"].isin([\n",
    "    \"C++\",\n",
    "    \"Python\",\n",
    "    \"Java\",\n",
    "    \"C\",\n",
    "    \"C#\",\n",
    "    \"Ruby\",\n",
    "    \"Rust\"\n",
    "])]"
   ]
  },
  {
   "cell_type": "code",
   "execution_count": 6,
   "metadata": {},
   "outputs": [
    {
     "data": {
      "text/html": [
       "<div>\n",
       "<style scoped>\n",
       "    .dataframe tbody tr th:only-of-type {\n",
       "        vertical-align: middle;\n",
       "    }\n",
       "\n",
       "    .dataframe tbody tr th {\n",
       "        vertical-align: top;\n",
       "    }\n",
       "\n",
       "    .dataframe thead th {\n",
       "        text-align: right;\n",
       "    }\n",
       "</style>\n",
       "<table border=\"1\" class=\"dataframe\">\n",
       "  <thead>\n",
       "    <tr style=\"text-align: right;\">\n",
       "      <th></th>\n",
       "      <th>problem_id</th>\n",
       "      <th>status</th>\n",
       "      <th>level_2</th>\n",
       "      <th>language</th>\n",
       "      <th>problem_description</th>\n",
       "      <th>solution</th>\n",
       "    </tr>\n",
       "  </thead>\n",
       "  <tbody>\n",
       "    <tr>\n",
       "      <th>0</th>\n",
       "      <td>p00000</td>\n",
       "      <td>Accepted</td>\n",
       "      <td>2074</td>\n",
       "      <td>C++</td>\n",
       "      <td>QQ \\n\\nWrite a program which prints multiplica...</td>\n",
       "      <td>#include &lt;iostream&gt;\\n\\nint main()\\n{\\n    int ...</td>\n",
       "    </tr>\n",
       "    <tr>\n",
       "      <th>1</th>\n",
       "      <td>p00000</td>\n",
       "      <td>Accepted</td>\n",
       "      <td>2803</td>\n",
       "      <td>C++</td>\n",
       "      <td>QQ \\n\\nWrite a program which prints multiplica...</td>\n",
       "      <td>#include&lt;iostream&gt;\\n\\nusing namespace std;\\n\\n...</td>\n",
       "    </tr>\n",
       "    <tr>\n",
       "      <th>2</th>\n",
       "      <td>p00000</td>\n",
       "      <td>Accepted</td>\n",
       "      <td>801</td>\n",
       "      <td>C</td>\n",
       "      <td>QQ \\n\\nWrite a program which prints multiplica...</td>\n",
       "      <td>#include &lt;stdio.h&gt;\\n\\nint main(){\\n\\tint a;\\n\\...</td>\n",
       "    </tr>\n",
       "    <tr>\n",
       "      <th>3</th>\n",
       "      <td>p00000</td>\n",
       "      <td>Accepted</td>\n",
       "      <td>787</td>\n",
       "      <td>C++</td>\n",
       "      <td>QQ \\n\\nWrite a program which prints multiplica...</td>\n",
       "      <td>#include &lt;iostream&gt;\\n#include &lt;iomanip&gt;\\n#incl...</td>\n",
       "    </tr>\n",
       "    <tr>\n",
       "      <th>4</th>\n",
       "      <td>p00000</td>\n",
       "      <td>Accepted</td>\n",
       "      <td>886</td>\n",
       "      <td>C++</td>\n",
       "      <td>QQ \\n\\nWrite a program which prints multiplica...</td>\n",
       "      <td>#include &lt;cstdio&gt;\\n\\nint main()\\n{\\n\\tfor( int...</td>\n",
       "    </tr>\n",
       "    <tr>\n",
       "      <th>...</th>\n",
       "      <td>...</td>\n",
       "      <td>...</td>\n",
       "      <td>...</td>\n",
       "      <td>...</td>\n",
       "      <td>...</td>\n",
       "      <td>...</td>\n",
       "    </tr>\n",
       "    <tr>\n",
       "      <th>184298</th>\n",
       "      <td>p04052</td>\n",
       "      <td>Wrong Answer</td>\n",
       "      <td>410</td>\n",
       "      <td>C++</td>\n",
       "      <td>Score : 2000 points \\n\\nProblem Statement You ...</td>\n",
       "      <td>#include &lt;cstdio&gt;\\n#include &lt;cstring&gt;\\n#includ...</td>\n",
       "    </tr>\n",
       "    <tr>\n",
       "      <th>184299</th>\n",
       "      <td>p04052</td>\n",
       "      <td>Wrong Answer</td>\n",
       "      <td>333</td>\n",
       "      <td>Java</td>\n",
       "      <td>Score : 2000 points \\n\\nProblem Statement You ...</td>\n",
       "      <td>import java.io.ByteArrayInputStream;\\nimport j...</td>\n",
       "    </tr>\n",
       "    <tr>\n",
       "      <th>184300</th>\n",
       "      <td>p04052</td>\n",
       "      <td>Wrong Answer</td>\n",
       "      <td>370</td>\n",
       "      <td>C++</td>\n",
       "      <td>Score : 2000 points \\n\\nProblem Statement You ...</td>\n",
       "      <td>#include&lt;iostream&gt;\\n#include&lt;vector&gt;\\n#include...</td>\n",
       "    </tr>\n",
       "    <tr>\n",
       "      <th>184301</th>\n",
       "      <td>p04052</td>\n",
       "      <td>Wrong Answer</td>\n",
       "      <td>348</td>\n",
       "      <td>C++</td>\n",
       "      <td>Score : 2000 points \\n\\nProblem Statement You ...</td>\n",
       "      <td>// wtf ... forgot to participate &gt;_&lt;\\n#include...</td>\n",
       "    </tr>\n",
       "    <tr>\n",
       "      <th>184302</th>\n",
       "      <td>p04052</td>\n",
       "      <td>Wrong Answer</td>\n",
       "      <td>372</td>\n",
       "      <td>C++</td>\n",
       "      <td>Score : 2000 points \\n\\nProblem Statement You ...</td>\n",
       "      <td>#include &lt;bits/stdc++.h&gt;\\n#define rep(i,n) for...</td>\n",
       "    </tr>\n",
       "  </tbody>\n",
       "</table>\n",
       "<p>184303 rows × 6 columns</p>\n",
       "</div>"
      ],
      "text/plain": [
       "       problem_id        status  level_2 language  \\\n",
       "0          p00000      Accepted     2074      C++   \n",
       "1          p00000      Accepted     2803      C++   \n",
       "2          p00000      Accepted      801        C   \n",
       "3          p00000      Accepted      787      C++   \n",
       "4          p00000      Accepted      886      C++   \n",
       "...           ...           ...      ...      ...   \n",
       "184298     p04052  Wrong Answer      410      C++   \n",
       "184299     p04052  Wrong Answer      333     Java   \n",
       "184300     p04052  Wrong Answer      370      C++   \n",
       "184301     p04052  Wrong Answer      348      C++   \n",
       "184302     p04052  Wrong Answer      372      C++   \n",
       "\n",
       "                                      problem_description  \\\n",
       "0       QQ \\n\\nWrite a program which prints multiplica...   \n",
       "1       QQ \\n\\nWrite a program which prints multiplica...   \n",
       "2       QQ \\n\\nWrite a program which prints multiplica...   \n",
       "3       QQ \\n\\nWrite a program which prints multiplica...   \n",
       "4       QQ \\n\\nWrite a program which prints multiplica...   \n",
       "...                                                   ...   \n",
       "184298  Score : 2000 points \\n\\nProblem Statement You ...   \n",
       "184299  Score : 2000 points \\n\\nProblem Statement You ...   \n",
       "184300  Score : 2000 points \\n\\nProblem Statement You ...   \n",
       "184301  Score : 2000 points \\n\\nProblem Statement You ...   \n",
       "184302  Score : 2000 points \\n\\nProblem Statement You ...   \n",
       "\n",
       "                                                 solution  \n",
       "0       #include <iostream>\\n\\nint main()\\n{\\n    int ...  \n",
       "1       #include<iostream>\\n\\nusing namespace std;\\n\\n...  \n",
       "2       #include <stdio.h>\\n\\nint main(){\\n\\tint a;\\n\\...  \n",
       "3       #include <iostream>\\n#include <iomanip>\\n#incl...  \n",
       "4       #include <cstdio>\\n\\nint main()\\n{\\n\\tfor( int...  \n",
       "...                                                   ...  \n",
       "184298  #include <cstdio>\\n#include <cstring>\\n#includ...  \n",
       "184299  import java.io.ByteArrayInputStream;\\nimport j...  \n",
       "184300  #include<iostream>\\n#include<vector>\\n#include...  \n",
       "184301  // wtf ... forgot to participate >_<\\n#include...  \n",
       "184302  #include <bits/stdc++.h>\\n#define rep(i,n) for...  \n",
       "\n",
       "[184303 rows x 6 columns]"
      ]
     },
     "execution_count": 6,
     "metadata": {},
     "output_type": "execute_result"
    }
   ],
   "source": [
    "all_data = all_data.groupby([\"problem_id\", \"status\"]).apply(\n",
    "    lambda df: df.sample(min(len(df), 20))\n",
    ")\n",
    "\n",
    "all_data.drop(columns=[\"problem_id\", \"status\"], inplace=True)\n",
    "all_data.reset_index(inplace=True)\n",
    "\n",
    "all_data"
   ]
  },
  {
   "cell_type": "code",
   "execution_count": 7,
   "metadata": {},
   "outputs": [
    {
     "data": {
      "text/plain": [
       "<Axes: xlabel='language'>"
      ]
     },
     "execution_count": 7,
     "metadata": {},
     "output_type": "execute_result"
    },
    {
     "data": {
      "image/png": "[encoded data removed]",
      "text/plain": [
       "<Figure size 1500x500 with 2 Axes>"
      ]
     },
     "metadata": {},
     "output_type": "display_data"
    }
   ],
   "source": [
    "fig, axes = plt.subplots(nrows=1, ncols=2, figsize=(15, 5))\n",
    "\n",
    "all_data[\"status\"].value_counts().plot.bar(ax=axes[0])\n",
    "all_data[\"language\"].value_counts().plot.bar(ax=axes[1])"
   ]
  },
  {
   "cell_type": "code",
   "execution_count": 8,
   "metadata": {},
   "outputs": [],
   "source": [
    "def tokenize_data(dataset, status_encoder):\n",
    "    tokenized_triplets = {\n",
    "        \"question\": [],\n",
    "        \"question_pad_mask\": [],\n",
    "        \"answer\": [],\n",
    "        \"answer_pad_mask\": [],\n",
    "        \"status\": [],\n",
    "    }\n",
    "\n",
    "    for qid in tqdm(dataset[\"problem_id\"].unique()):\n",
    "        current_dataset = dataset[dataset[\"problem_id\"] == qid]\n",
    "\n",
    "        # Tokenize the question\n",
    "        tokenized_question = Tokenizer.encode(\n",
    "            current_dataset[\"problem_description\"].iloc[0],\n",
    "            max_length=30_000,\n",
    "            truncation=True,\n",
    "            return_tensors=\"pt\",\n",
    "        )[0]\n",
    "\n",
    "        # If the question is greater than the CONFIG.max_seq_len, then skip this subset\n",
    "        # altogether because we do not want to confuse the model with half-questions.\n",
    "        question_len = len(tokenized_question)\n",
    "        if question_len > CONFIG.max_seq_len:\n",
    "            continue\n",
    "\n",
    "        padded_question = torch.full((CONFIG.max_seq_len,), Tokenizer.pad_token_id, dtype=torch.int64)\n",
    "        padded_question[:question_len] = tokenized_question\n",
    "        question_pad_mask = padded_question == Tokenizer.pad_token_id\n",
    "\n",
    "        for solution_text, status in current_dataset[[\"solution\", \"status\"]].values:\n",
    "            # Tokenize the answer\n",
    "            tokenized_answer = Tokenizer.encode(\n",
    "                solution_text,\n",
    "                max_length=30_000,\n",
    "                truncation=True,\n",
    "                return_tensors=\"pt\",\n",
    "            )[0]\n",
    "\n",
    "            # If the answer is greater than the CONFIG.max_seq_len, then skip this row\n",
    "            # altogether because we do not want to confuse the model with half-answers.\n",
    "            answer_len = len(tokenized_answer)\n",
    "            if answer_len > CONFIG.max_seq_len:\n",
    "                continue\n",
    "\n",
    "            padded_answer = torch.full((CONFIG.max_seq_len,), Tokenizer.pad_token_id, dtype=torch.int64)\n",
    "            padded_answer[:answer_len] = tokenized_answer\n",
    "            answer_pad_mask = padded_answer == Tokenizer.pad_token_id\n",
    "                    \n",
    "            # Add the question\n",
    "            tokenized_triplets[\"question\"].append(padded_question)\n",
    "            tokenized_triplets[\"question_pad_mask\"].append(question_pad_mask)\n",
    "\n",
    "            # Add the answer\n",
    "            tokenized_triplets[\"answer\"].append(padded_answer)\n",
    "            tokenized_triplets[\"answer_pad_mask\"].append(answer_pad_mask)\n",
    "\n",
    "            # Add the status\n",
    "            tokenized_triplets[\"status\"].append(status_encoder(status))\n",
    "    \n",
    "    return tokenized_triplets"
   ]
  },
  {
   "cell_type": "code",
   "execution_count": 9,
   "metadata": {},
   "outputs": [
    {
     "data": {
      "text/plain": [
       "['Accepted',\n",
       " 'Compile Error',\n",
       " 'Runtime Error',\n",
       " 'Time Limit Exceeded',\n",
       " 'Wrong Answer']"
      ]
     },
     "execution_count": 9,
     "metadata": {},
     "output_type": "execute_result"
    }
   ],
   "source": [
    "status_values = list(all_data[\"status\"].unique())\n",
    "status_values"
   ]
  },
  {
   "cell_type": "code",
   "execution_count": 10,
   "metadata": {},
   "outputs": [
    {
     "name": "stderr",
     "output_type": "stream",
     "text": [
      "100%|██████████| 2654/2654 [03:37<00:00, 12.21it/s]\n"
     ]
    }
   ],
   "source": [
    "tokenized_data = tokenize_data(all_data, lambda x: status_values.index(x))"
   ]
  },
  {
   "cell_type": "code",
   "execution_count": 11,
   "metadata": {},
   "outputs": [],
   "source": [
    "full_dataset = SentinelDataset(tokenized_data, status_values)"
   ]
  },
  {
   "cell_type": "code",
   "execution_count": 22,
   "metadata": {},
   "outputs": [
    {
     "name": "stdout",
     "output_type": "stream",
     "text": [
      "QQ \n",
      "\n",
      "Write a program which prints multiplication tables in the following format:\n",
      "\n",
      "```\n",
      "1x1=1\n",
      "1x2=2\n",
      ".\n",
      ".\n",
      "9x8=72\n",
      "9x9=81\n",
      "```\n",
      "\n",
      "Input \n",
      "\n",
      "No input.\n",
      "\n",
      "Output \n",
      "\n",
      "```\n",
      "1x1=1\n",
      "1x2=2\n",
      ".\n",
      ".\n",
      "9x8=72\n",
      "9x9=81\n",
      "```\n",
      "\n",
      "Template for C \n",
      "\n",
      "```\n",
      "#include&lt;stdio.h&gt;\n",
      "\n",
      "int main(){\n",
      "\n",
      "return 0;\n",
      "}\n",
      "```\n",
      "\n",
      "Template for C++ \n",
      "\n",
      "```\n",
      "#include&lt;iostream&gt;\n",
      "using namespace std;\n",
      "\n",
      "int main(){\n",
      "\n",
      "return 0;\n",
      "}\n",
      "```\n",
      "\n",
      "Template for Java \n",
      "\n",
      "```\n",
      "class Main{\n",
      "\n",
      "public static void main(String[] a){\n",
      "\n",
      "}\n",
      "}\n",
      "```[PAD][PAD][PAD][PAD][PAD][PAD][PAD][PAD][PAD][PAD][PAD][PAD][PAD][PAD][PAD][PAD][PAD][PAD][PAD][PAD][PAD][PAD][PAD][PAD][PAD][PAD][PAD][PAD][PAD][PAD][PAD][PAD][PAD][PAD][PAD][PAD][PAD][PAD][PAD][PAD][PAD][PAD][PAD][PAD][PAD][PAD][PAD][PAD][PAD][PAD][PAD][PAD][PAD][PAD][PAD][PAD][PAD][PAD][PAD][PAD][PAD][PAD][PAD][PAD][PAD][PAD][PAD][PAD][PAD][PAD][PAD][PAD][PAD][PAD][PAD][PAD][PAD][PAD][PAD][PAD][PAD][PAD][PAD][PAD][PAD][PAD][PAD][PAD][PAD][PAD][PAD][PAD][PAD][PAD][PAD][PAD][PAD][PAD][PAD][PAD][PAD][PAD][PAD][PAD][PAD][PAD][PAD][PAD][PAD][PAD][PAD][PAD][PAD][PAD][PAD][PAD][PAD][PAD][PAD][PAD][PAD][PAD][PAD][PAD][PAD][PAD][PAD][PAD][PAD][PAD][PAD][PAD][PAD][PAD][PAD][PAD][PAD][PAD][PAD][PAD][PAD][PAD][PAD][PAD][PAD][PAD][PAD][PAD][PAD][PAD][PAD][PAD][PAD][PAD][PAD][PAD][PAD][PAD][PAD][PAD][PAD][PAD][PAD][PAD][PAD][PAD][PAD][PAD][PAD][PAD][PAD][PAD][PAD][PAD][PAD][PAD][PAD][PAD][PAD][PAD][PAD][PAD][PAD][PAD][PAD][PAD][PAD][PAD][PAD][PAD][PAD][PAD][PAD][PAD][PAD][PAD][PAD][PAD][PAD][PAD][PAD][PAD][PAD][PAD][PAD][PAD][PAD][PAD][PAD][PAD][PAD][PAD][PAD][PAD][PAD][PAD][PAD][PAD][PAD][PAD][PAD][PAD][PAD][PAD][PAD][PAD][PAD][PAD][PAD][PAD][PAD][PAD][PAD][PAD][PAD][PAD][PAD][PAD][PAD][PAD][PAD][PAD][PAD][PAD][PAD][PAD][PAD][PAD][PAD][PAD][PAD][PAD][PAD][PAD][PAD][PAD][PAD][PAD][PAD][PAD][PAD][PAD][PAD][PAD][PAD][PAD][PAD][PAD][PAD][PAD][PAD][PAD][PAD][PAD][PAD][PAD][PAD][PAD][PAD][PAD][PAD][PAD][PAD][PAD][PAD][PAD][PAD][PAD][PAD][PAD][PAD][PAD][PAD][PAD][PAD][PAD][PAD][PAD][PAD][PAD][PAD][PAD][PAD][PAD][PAD][PAD][PAD][PAD][PAD][PAD][PAD][PAD][PAD][PAD][PAD][PAD][PAD][PAD][PAD][PAD][PAD][PAD][PAD][PAD][PAD][PAD][PAD][PAD][PAD][PAD][PAD][PAD][PAD][PAD][PAD][PAD][PAD][PAD][PAD][PAD][PAD][PAD][PAD][PAD][PAD][PAD][PAD][PAD][PAD][PAD][PAD][PAD][PAD][PAD][PAD][PAD][PAD][PAD][PAD][PAD][PAD][PAD][PAD][PAD][PAD][PAD][PAD][PAD][PAD][PAD][PAD][PAD][PAD][PAD][PAD][PAD][PAD][PAD][PAD][PAD][PAD][PAD][PAD][PAD][PAD][PAD][PAD][PAD][PAD][PAD][PAD][PAD][PAD][PAD][PAD][PAD][PAD][PAD][PAD][PAD][PAD][PAD][PAD][PAD][PAD][PAD][PAD][PAD][PAD][PAD][PAD][PAD][PAD][PAD][PAD][PAD][PAD][PAD][PAD][PAD][PAD][PAD][PAD][PAD][PAD][PAD][PAD][PAD][PAD][PAD][PAD][PAD][PAD][PAD][PAD][PAD][PAD][PAD][PAD][PAD][PAD][PAD][PAD][PAD][PAD][PAD][PAD][PAD][PAD][PAD][PAD][PAD][PAD][PAD][PAD][PAD][PAD][PAD][PAD][PAD][PAD][PAD][PAD][PAD][PAD][PAD][PAD][PAD][PAD][PAD][PAD][PAD][PAD][PAD][PAD][PAD][PAD][PAD][PAD][PAD][PAD][PAD][PAD][PAD][PAD][PAD][PAD][PAD][PAD][PAD][PAD][PAD][PAD][PAD][PAD][PAD][PAD][PAD][PAD][PAD][PAD][PAD][PAD][PAD][PAD][PAD][PAD][PAD][PAD][PAD][PAD][PAD][PAD][PAD][PAD][PAD][PAD][PAD][PAD][PAD][PAD][PAD][PAD][PAD][PAD][PAD][PAD][PAD][PAD][PAD][PAD][PAD][PAD][PAD][PAD][PAD][PAD][PAD][PAD][PAD][PAD][PAD][PAD][PAD][PAD][PAD][PAD][PAD][PAD][PAD][PAD][PAD][PAD][PAD]\n"
     ]
    }
   ],
   "source": [
    "print(Tokenizer.decode(full_dataset[1][\"question\"]))"
   ]
  },
  {
   "cell_type": "code",
   "execution_count": 23,
   "metadata": {},
   "outputs": [
    {
     "name": "stdout",
     "output_type": "stream",
     "text": [
      "#include<iostream>\n",
      "\n",
      "using namespace std;\n",
      "\n",
      "int main(){\n",
      "\tint i,j;\n",
      "\t\n",
      "\tfor(i=1;i<10;i++){\n",
      "\t\tfor(j=1;j<10;j++){\n",
      "\t\t\tcout << i << \"x\" << j << \"=\" << i*j << '\\n';\n",
      "\t\t}\n",
      "\t}\n",
      "\treturn 0;\n",
      "}[PAD][PAD][PAD][PAD][PAD][PAD][PAD][PAD][PAD][PAD][PAD][PAD][PAD][PAD][PAD][PAD][PAD][PAD][PAD][PAD][PAD][PAD][PAD][PAD][PAD][PAD][PAD][PAD][PAD][PAD][PAD][PAD][PAD][PAD][PAD][PAD][PAD][PAD][PAD][PAD][PAD][PAD][PAD][PAD][PAD][PAD][PAD][PAD][PAD][PAD][PAD][PAD][PAD][PAD][PAD][PAD][PAD][PAD][PAD][PAD][PAD][PAD][PAD][PAD][PAD][PAD][PAD][PAD][PAD][PAD][PAD][PAD][PAD][PAD][PAD][PAD][PAD][PAD][PAD][PAD][PAD][PAD][PAD][PAD][PAD][PAD][PAD][PAD][PAD][PAD][PAD][PAD][PAD][PAD][PAD][PAD][PAD][PAD][PAD][PAD][PAD][PAD][PAD][PAD][PAD][PAD][PAD][PAD][PAD][PAD][PAD][PAD][PAD][PAD][PAD][PAD][PAD][PAD][PAD][PAD][PAD][PAD][PAD][PAD][PAD][PAD][PAD][PAD][PAD][PAD][PAD][PAD][PAD][PAD][PAD][PAD][PAD][PAD][PAD][PAD][PAD][PAD][PAD][PAD][PAD][PAD][PAD][PAD][PAD][PAD][PAD][PAD][PAD][PAD][PAD][PAD][PAD][PAD][PAD][PAD][PAD][PAD][PAD][PAD][PAD][PAD][PAD][PAD][PAD][PAD][PAD][PAD][PAD][PAD][PAD][PAD][PAD][PAD][PAD][PAD][PAD][PAD][PAD][PAD][PAD][PAD][PAD][PAD][PAD][PAD][PAD][PAD][PAD][PAD][PAD][PAD][PAD][PAD][PAD][PAD][PAD][PAD][PAD][PAD][PAD][PAD][PAD][PAD][PAD][PAD][PAD][PAD][PAD][PAD][PAD][PAD][PAD][PAD][PAD][PAD][PAD][PAD][PAD][PAD][PAD][PAD][PAD][PAD][PAD][PAD][PAD][PAD][PAD][PAD][PAD][PAD][PAD][PAD][PAD][PAD][PAD][PAD][PAD][PAD][PAD][PAD][PAD][PAD][PAD][PAD][PAD][PAD][PAD][PAD][PAD][PAD][PAD][PAD][PAD][PAD][PAD][PAD][PAD][PAD][PAD][PAD][PAD][PAD][PAD][PAD][PAD][PAD][PAD][PAD][PAD][PAD][PAD][PAD][PAD][PAD][PAD][PAD][PAD][PAD][PAD][PAD][PAD][PAD][PAD][PAD][PAD][PAD][PAD][PAD][PAD][PAD][PAD][PAD][PAD][PAD][PAD][PAD][PAD][PAD][PAD][PAD][PAD][PAD][PAD][PAD][PAD][PAD][PAD][PAD][PAD][PAD][PAD][PAD][PAD][PAD][PAD][PAD][PAD][PAD][PAD][PAD][PAD][PAD][PAD][PAD][PAD][PAD][PAD][PAD][PAD][PAD][PAD][PAD][PAD][PAD][PAD][PAD][PAD][PAD][PAD][PAD][PAD][PAD][PAD][PAD][PAD][PAD][PAD][PAD][PAD][PAD][PAD][PAD][PAD][PAD][PAD][PAD][PAD][PAD][PAD][PAD][PAD][PAD][PAD][PAD][PAD][PAD][PAD][PAD][PAD][PAD][PAD][PAD][PAD][PAD][PAD][PAD][PAD][PAD][PAD][PAD][PAD][PAD][PAD][PAD][PAD][PAD][PAD][PAD][PAD][PAD][PAD][PAD][PAD][PAD][PAD][PAD][PAD][PAD][PAD][PAD][PAD][PAD][PAD][PAD][PAD][PAD][PAD][PAD][PAD][PAD][PAD][PAD][PAD][PAD][PAD][PAD][PAD][PAD][PAD][PAD][PAD][PAD][PAD][PAD][PAD][PAD][PAD][PAD][PAD][PAD][PAD][PAD][PAD][PAD][PAD][PAD][PAD][PAD][PAD][PAD][PAD][PAD][PAD][PAD][PAD][PAD][PAD][PAD][PAD][PAD][PAD][PAD][PAD][PAD][PAD][PAD][PAD][PAD][PAD][PAD][PAD][PAD][PAD][PAD][PAD][PAD][PAD][PAD][PAD][PAD][PAD][PAD][PAD][PAD][PAD][PAD][PAD][PAD][PAD][PAD][PAD][PAD][PAD][PAD][PAD][PAD][PAD][PAD][PAD][PAD][PAD][PAD][PAD][PAD][PAD][PAD][PAD][PAD][PAD][PAD][PAD][PAD][PAD][PAD][PAD][PAD][PAD][PAD][PAD][PAD][PAD][PAD][PAD][PAD][PAD][PAD][PAD][PAD][PAD][PAD][PAD][PAD][PAD][PAD][PAD][PAD][PAD][PAD][PAD][PAD][PAD][PAD][PAD][PAD][PAD][PAD][PAD][PAD][PAD][PAD][PAD][PAD][PAD][PAD][PAD][PAD][PAD][PAD][PAD][PAD][PAD][PAD][PAD][PAD][PAD][PAD][PAD][PAD][PAD][PAD][PAD][PAD][PAD][PAD][PAD][PAD][PAD][PAD][PAD][PAD][PAD][PAD][PAD][PAD][PAD][PAD][PAD][PAD][PAD][PAD][PAD][PAD][PAD][PAD][PAD][PAD][PAD][PAD][PAD][PAD][PAD][PAD][PAD][PAD][PAD][PAD][PAD][PAD][PAD][PAD][PAD][PAD][PAD][PAD][PAD][PAD][PAD][PAD][PAD][PAD][PAD][PAD][PAD][PAD][PAD][PAD][PAD][PAD][PAD][PAD][PAD][PAD][PAD][PAD][PAD][PAD][PAD][PAD][PAD][PAD][PAD][PAD][PAD][PAD][PAD][PAD][PAD][PAD][PAD][PAD][PAD][PAD][PAD][PAD][PAD][PAD][PAD][PAD][PAD][PAD][PAD][PAD][PAD][PAD][PAD][PAD][PAD][PAD][PAD][PAD][PAD][PAD][PAD][PAD]\n"
     ]
    }
   ],
   "source": [
    "print(Tokenizer.decode(full_dataset[1][\"answer\"]))"
   ]
  },
  {
   "cell_type": "code",
   "execution_count": 24,
   "metadata": {},
   "outputs": [
    {
     "name": "stdout",
     "output_type": "stream",
     "text": [
      "tensor(0) Accepted\n"
     ]
    }
   ],
   "source": [
    "print(\n",
    "    full_dataset[1][\"status\"],\n",
    "    full_dataset.status_values[full_dataset[1][\"status\"]]\n",
    ")"
   ]
  },
  {
   "cell_type": "code",
   "execution_count": 17,
   "metadata": {},
   "outputs": [],
   "source": [
    "full_dataset.save_to(\"./data/sentinel_data.pt\")"
   ]
  },
  {
   "cell_type": "code",
   "execution_count": null,
   "metadata": {},
   "outputs": [],
   "source": []
  }
 ],
 "metadata": {
  "kernelspec": {
   "display_name": "CodeNetSentinel",
   "language": "python",
   "name": "python3"
  },
  "language_info": {
   "codemirror_mode": {
    "name": "ipython",
    "version": 3
   },
   "file_extension": ".py",
   "mimetype": "text/x-python",
   "name": "python",
   "nbconvert_exporter": "python",
   "pygments_lexer": "ipython3",
   "version": "3.9.18"
  }
 },
 "nbformat": 4,
 "nbformat_minor": 2
}
