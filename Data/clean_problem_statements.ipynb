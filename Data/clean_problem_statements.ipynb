{
 "cells": [
  {
   "cell_type": "code",
   "execution_count": 1,
   "metadata": {},
   "outputs": [],
   "source": [
    "import os\n",
    "import re\n",
    "import spacy\n",
    "\n",
    "import pandas as pd\n",
    "\n",
    "from tqdm import tqdm\n",
    "from spacy.language import Language\n",
    "from spacy_langdetect import LanguageDetector"
   ]
  },
  {
   "cell_type": "code",
   "execution_count": 2,
   "metadata": {},
   "outputs": [
    {
     "name": "stderr",
     "output_type": "stream",
     "text": [
      "/Users/faustogerman/miniforge3/envs/CodeNetSentinel/lib/python3.9/site-packages/tqdm/auto.py:21: TqdmWarning: IProgress not found. Please update jupyter and ipywidgets. See https://ipywidgets.readthedocs.io/en/stable/user_install.html\n",
      "  from .autonotebook import tqdm as notebook_tqdm\n"
     ]
    },
    {
     "data": {
      "text/plain": [
       "<spacy_langdetect.spacy_langdetect.LanguageDetector at 0x16bbc3790>"
      ]
     },
     "execution_count": 2,
     "metadata": {},
     "output_type": "execute_result"
    }
   ],
   "source": [
    "Language.factory(\"language_detector\", func=lambda nlp, name: LanguageDetector())\n",
    "nlp = spacy.load('en_core_web_trf')\n",
    "nlp.add_pipe('language_detector', last=True)"
   ]
  },
  {
   "cell_type": "code",
   "execution_count": 3,
   "metadata": {},
   "outputs": [
    {
     "name": "stderr",
     "output_type": "stream",
     "text": [
      "  0%|          | 0/3999 [00:00<?, ?it/s]"
     ]
    },
    {
     "name": "stderr",
     "output_type": "stream",
     "text": [
      "100%|██████████| 3999/3999 [20:02<00:00,  3.33it/s]\n"
     ]
    }
   ],
   "source": [
    "problems_data = {\n",
    "    \"pid\": [],\n",
    "    \"original\": [],\n",
    "    \"clean\": [],\n",
    "    \"lang\": [],\n",
    "}\n",
    "\n",
    "def do_clean(inp):\n",
    "    txt = inp.replace(\"<pre>\", \"```\").replace(\"</pre>\", \"```\") # Replace `pre` tags with triple backticks\n",
    "    txt = re.sub(f\"<(?:\\\"[^\\\"]*\\\"['\\\"]*|'[^']*'['\\\"]*|[^'\\\">])+>\", \"  \", txt) # Remove all HTML tags\n",
    "    txt = re.sub(\"(\\n\\s*\\n)\", \"\\n\\n\", txt) # Remove consecutive newlines\n",
    "    txt = re.sub(\"( {2,})\", \" \", txt).strip() # Remove consecutive spaces\n",
    "    txt = re.sub(\"^[\\s\\t]+\", \"\\n\", txt, flags=re.MULTILINE)\n",
    "    return txt\n",
    "\n",
    "\n",
    "for meta in tqdm(os.listdir(\"./mini_codenet/problem_descriptions/\")):\n",
    "    pid = meta[:-5]\n",
    "    \n",
    "    with open(\"./mini_codenet/problem_descriptions/\"+meta, \"r\") as submission_contents:\n",
    "        problem_desc_html = submission_contents.read()\n",
    "        cleaned = do_clean(problem_desc_html)\n",
    "        \n",
    "        problems_data[\"pid\"].append(pid)\n",
    "        problems_data[\"original\"].append(problem_desc_html)\n",
    "        problems_data[\"clean\"].append(cleaned)\n",
    "        problems_data[\"lang\"].append(nlp(cleaned)._.language[\"language\"])"
   ]
  },
  {
   "cell_type": "code",
   "execution_count": 4,
   "metadata": {},
   "outputs": [
    {
     "data": {
      "text/html": [
       "<div>\n",
       "<style scoped>\n",
       "    .dataframe tbody tr th:only-of-type {\n",
       "        vertical-align: middle;\n",
       "    }\n",
       "\n",
       "    .dataframe tbody tr th {\n",
       "        vertical-align: top;\n",
       "    }\n",
       "\n",
       "    .dataframe thead th {\n",
       "        text-align: right;\n",
       "    }\n",
       "</style>\n",
       "<table border=\"1\" class=\"dataframe\">\n",
       "  <thead>\n",
       "    <tr style=\"text-align: right;\">\n",
       "      <th></th>\n",
       "      <th>pid</th>\n",
       "      <th>original</th>\n",
       "      <th>clean</th>\n",
       "      <th>lang</th>\n",
       "    </tr>\n",
       "  </thead>\n",
       "  <tbody>\n",
       "    <tr>\n",
       "      <th>0</th>\n",
       "      <td>p03466</td>\n",
       "      <td>&lt;span class=\"lang-en\"&gt;\\n&lt;p&gt;Score : &lt;var&gt;1100&lt;/...</td>\n",
       "      <td>Score : 1100 points \\n\\nProblem Statement Let ...</td>\n",
       "      <td>en</td>\n",
       "    </tr>\n",
       "    <tr>\n",
       "      <th>1</th>\n",
       "      <td>p03036</td>\n",
       "      <td>&lt;span class=\"lang-en\"&gt;\\n&lt;p&gt;Score : &lt;var&gt;200&lt;/v...</td>\n",
       "      <td>Score : 200 points \\n\\nProblem Statement The d...</td>\n",
       "      <td>en</td>\n",
       "    </tr>\n",
       "    <tr>\n",
       "      <th>2</th>\n",
       "      <td>p02277</td>\n",
       "      <td>\\n&lt;H1&gt;Quick Sort&lt;/H1&gt;\\n&lt;!--\\n&lt;p style=\"color:#...</td>\n",
       "      <td>Quick Sort \\n\\nPlease note that problem descri...</td>\n",
       "      <td>en</td>\n",
       "    </tr>\n",
       "    <tr>\n",
       "      <th>3</th>\n",
       "      <td>p03935</td>\n",
       "      <td>&lt;span class=\"lang-en lang-child hidden-lang\"&gt;\\...</td>\n",
       "      <td>Max Score: $1400$ Points \\n\\nProblem Statement...</td>\n",
       "      <td>en</td>\n",
       "    </tr>\n",
       "    <tr>\n",
       "      <th>4</th>\n",
       "      <td>p01908</td>\n",
       "      <td>\\n\\n\\n&lt;script type=\"text/x-mathjax-config\"&gt;\\nM...</td>\n",
       "      <td>MathJax.Hub.Config({\\ntex2jax: {inlineMath: [[...</td>\n",
       "      <td>ja</td>\n",
       "    </tr>\n",
       "    <tr>\n",
       "      <th>...</th>\n",
       "      <td>...</td>\n",
       "      <td>...</td>\n",
       "      <td>...</td>\n",
       "      <td>...</td>\n",
       "    </tr>\n",
       "    <tr>\n",
       "      <th>3994</th>\n",
       "      <td>p02126</td>\n",
       "      <td>&lt;h1&gt;Problem C: Ball&lt;/h1&gt;\\n\\n&lt;h2&gt;Problem&lt;/h2&gt;\\n...</td>\n",
       "      <td>Problem C: Ball \\n\\nProblem \\n\\n$N$個のボールがあり、各ボ...</td>\n",
       "      <td>ja</td>\n",
       "    </tr>\n",
       "    <tr>\n",
       "      <th>3995</th>\n",
       "      <td>p03367</td>\n",
       "      <td>&lt;span class=\"lang-en\"&gt;\\n&lt;p&gt;Score : &lt;var&gt;1700&lt;/...</td>\n",
       "      <td>Score : 1700 points \\n\\nProblem Statement Snuk...</td>\n",
       "      <td>en</td>\n",
       "    </tr>\n",
       "    <tr>\n",
       "      <th>3996</th>\n",
       "      <td>p02825</td>\n",
       "      <td>&lt;span class=\"lang-en\"&gt;\\n&lt;p&gt;Score : &lt;var&gt;900&lt;/v...</td>\n",
       "      <td>Score : 900 points \\n\\nProblem Statement Let u...</td>\n",
       "      <td>en</td>\n",
       "    </tr>\n",
       "    <tr>\n",
       "      <th>3997</th>\n",
       "      <td>p00818</td>\n",
       "      <td>\\n&lt;H1&gt;&lt;font color=\"#000\"&gt;Problem H:&lt;/font&gt; Viv...</td>\n",
       "      <td>Problem H: Viva Confetti \\n\\nDo you know confe...</td>\n",
       "      <td>en</td>\n",
       "    </tr>\n",
       "    <tr>\n",
       "      <th>3998</th>\n",
       "      <td>p03737</td>\n",
       "      <td>&lt;span class=\"lang-en\"&gt;\\n&lt;p&gt;Score : &lt;var&gt;100&lt;/v...</td>\n",
       "      <td>Score : 100 points \\n\\nProblem Statement You a...</td>\n",
       "      <td>en</td>\n",
       "    </tr>\n",
       "  </tbody>\n",
       "</table>\n",
       "<p>3999 rows × 4 columns</p>\n",
       "</div>"
      ],
      "text/plain": [
       "         pid                                           original  \\\n",
       "0     p03466  <span class=\"lang-en\">\\n<p>Score : <var>1100</...   \n",
       "1     p03036  <span class=\"lang-en\">\\n<p>Score : <var>200</v...   \n",
       "2     p02277  \\n<H1>Quick Sort</H1>\\n<!--\\n<p style=\"color:#...   \n",
       "3     p03935  <span class=\"lang-en lang-child hidden-lang\">\\...   \n",
       "4     p01908  \\n\\n\\n<script type=\"text/x-mathjax-config\">\\nM...   \n",
       "...      ...                                                ...   \n",
       "3994  p02126  <h1>Problem C: Ball</h1>\\n\\n<h2>Problem</h2>\\n...   \n",
       "3995  p03367  <span class=\"lang-en\">\\n<p>Score : <var>1700</...   \n",
       "3996  p02825  <span class=\"lang-en\">\\n<p>Score : <var>900</v...   \n",
       "3997  p00818  \\n<H1><font color=\"#000\">Problem H:</font> Viv...   \n",
       "3998  p03737  <span class=\"lang-en\">\\n<p>Score : <var>100</v...   \n",
       "\n",
       "                                                  clean lang  \n",
       "0     Score : 1100 points \\n\\nProblem Statement Let ...   en  \n",
       "1     Score : 200 points \\n\\nProblem Statement The d...   en  \n",
       "2     Quick Sort \\n\\nPlease note that problem descri...   en  \n",
       "3     Max Score: $1400$ Points \\n\\nProblem Statement...   en  \n",
       "4     MathJax.Hub.Config({\\ntex2jax: {inlineMath: [[...   ja  \n",
       "...                                                 ...  ...  \n",
       "3994  Problem C: Ball \\n\\nProblem \\n\\n$N$個のボールがあり、各ボ...   ja  \n",
       "3995  Score : 1700 points \\n\\nProblem Statement Snuk...   en  \n",
       "3996  Score : 900 points \\n\\nProblem Statement Let u...   en  \n",
       "3997  Problem H: Viva Confetti \\n\\nDo you know confe...   en  \n",
       "3998  Score : 100 points \\n\\nProblem Statement You a...   en  \n",
       "\n",
       "[3999 rows x 4 columns]"
      ]
     },
     "execution_count": 4,
     "metadata": {},
     "output_type": "execute_result"
    }
   ],
   "source": [
    "problems = pd.DataFrame(problems_data)\n",
    "del problems_data\n",
    "\n",
    "problems"
   ]
  },
  {
   "cell_type": "code",
   "execution_count": 5,
   "metadata": {},
   "outputs": [
    {
     "data": {
      "text/plain": [
       "<Axes: >"
      ]
     },
     "execution_count": 5,
     "metadata": {},
     "output_type": "execute_result"
    },
    {
     "data": {
      "image/png": "[encoded data removed]",
      "text/plain": [
       "<Figure size 640x480 with 1 Axes>"
      ]
     },
     "metadata": {},
     "output_type": "display_data"
    }
   ],
   "source": [
    "problems[\"lang\"].hist()"
   ]
  },
  {
   "cell_type": "code",
   "execution_count": 6,
   "metadata": {},
   "outputs": [],
   "source": [
    "problems.to_feather(\"./mini_codenet/problem_descriptions.ftr\")"
   ]
  },
  {
   "cell_type": "code",
   "execution_count": null,
   "metadata": {},
   "outputs": [],
   "source": []
  }
 ],
 "metadata": {
  "kernelspec": {
   "display_name": "CodeNetSentinel",
   "language": "python",
   "name": "python3"
  },
  "language_info": {
   "codemirror_mode": {
    "name": "ipython",
    "version": 3
   },
   "file_extension": ".py",
   "mimetype": "text/x-python",
   "name": "python",
   "nbconvert_exporter": "python",
   "pygments_lexer": "ipython3",
   "version": "3.9.18"
  }
 },
 "nbformat": 4,
 "nbformat_minor": 2
}
