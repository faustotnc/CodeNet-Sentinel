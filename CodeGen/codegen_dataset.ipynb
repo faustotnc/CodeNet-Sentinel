{
 "cells": [
  {
   "cell_type": "code",
   "execution_count": 1,
   "metadata": {},
   "outputs": [],
   "source": [
    "import sys\n",
    "\n",
    "if 'google.colab' in sys.modules:\n",
    "    from google.colab import drive\n",
    "    drive.mount('/content/drive')\n",
    "\n",
    "    # Replace with correct location\n",
    "    %cd /content/drive/MyDrive/Colab Notebooks/CodeNet-Sentinel/Decoder\n",
    "\n",
    "    !pip install datasets==2.15.0 transformers lightning wandb"
   ]
  },
  {
   "cell_type": "code",
   "execution_count": 2,
   "metadata": {},
   "outputs": [],
   "source": [
    "import os\n",
    "\n",
    "# To make our imports work because python relative imports suck\n",
    "current_dir = os.getcwd()\n",
    "parent_dir = os.path.dirname(current_dir)\n",
    "sys.path.append(parent_dir)"
   ]
  },
  {
   "cell_type": "code",
   "execution_count": 3,
   "metadata": {},
   "outputs": [
    {
     "name": "stderr",
     "output_type": "stream",
     "text": [
      "/Users/faustogerman/miniforge3/envs/CodeNetSentinel/lib/python3.9/site-packages/tqdm/auto.py:21: TqdmWarning: IProgress not found. Please update jupyter and ipywidgets. See https://ipywidgets.readthedocs.io/en/stable/user_install.html\n",
      "  from .autonotebook import tqdm as notebook_tqdm\n"
     ]
    }
   ],
   "source": [
    "import re\n",
    "import torch\n",
    "\n",
    "import pandas as pd\n",
    "import numpy as np\n",
    "import matplotlib.pyplot as plt\n",
    "\n",
    "from ast import literal_eval\n",
    "from datasets import load_dataset\n",
    "from tqdm import tqdm\n",
    "\n",
    "# Local Modules\n",
    "from Architecture import Tokenizer, VOCAB_SIZE\n",
    "from Architecture.ModelConfig import ModelConfig\n",
    "from Architecture.CodeGenTransformer import CodeGenDataset"
   ]
  },
  {
   "cell_type": "code",
   "execution_count": 4,
   "metadata": {},
   "outputs": [
    {
     "data": {
      "text/plain": [
       "'2.1.2'"
      ]
     },
     "execution_count": 4,
     "metadata": {},
     "output_type": "execute_result"
    }
   ],
   "source": [
    "CONFIG = ModelConfig()\n",
    "\n",
    "torch.manual_seed(CONFIG.random_seed)\n",
    "torch.__version__"
   ]
  },
  {
   "cell_type": "markdown",
   "metadata": {},
   "source": [
    "## GitHub Data"
   ]
  },
  {
   "cell_type": "code",
   "execution_count": 5,
   "metadata": {},
   "outputs": [
    {
     "name": "stdout",
     "output_type": "stream",
     "text": [
      "Getting Java data...\n"
     ]
    },
    {
     "name": "stderr",
     "output_type": "stream",
     "text": [
      "100%|██████████| 4000/4000 [00:18<00:00, 211.66it/s]\n"
     ]
    },
    {
     "name": "stdout",
     "output_type": "stream",
     "text": [
      "Getting JavaScript data...\n"
     ]
    },
    {
     "name": "stderr",
     "output_type": "stream",
     "text": [
      "100%|██████████| 4000/4000 [00:08<00:00, 495.42it/s]\n"
     ]
    },
    {
     "name": "stdout",
     "output_type": "stream",
     "text": [
      "Getting PHP data...\n"
     ]
    },
    {
     "name": "stderr",
     "output_type": "stream",
     "text": [
      "100%|██████████| 4000/4000 [00:12<00:00, 317.62it/s]\n"
     ]
    },
    {
     "name": "stdout",
     "output_type": "stream",
     "text": [
      "Getting Python data...\n"
     ]
    },
    {
     "name": "stderr",
     "output_type": "stream",
     "text": [
      "100%|██████████| 4000/4000 [00:26<00:00, 151.20it/s]\n"
     ]
    },
    {
     "name": "stdout",
     "output_type": "stream",
     "text": [
      "Getting C data...\n"
     ]
    },
    {
     "name": "stderr",
     "output_type": "stream",
     "text": [
      "100%|██████████| 4000/4000 [00:29<00:00, 136.89it/s]\n"
     ]
    },
    {
     "name": "stdout",
     "output_type": "stream",
     "text": [
      "Getting C# data...\n"
     ]
    },
    {
     "name": "stderr",
     "output_type": "stream",
     "text": [
      "100%|██████████| 4000/4000 [00:17<00:00, 224.72it/s]\n"
     ]
    },
    {
     "name": "stdout",
     "output_type": "stream",
     "text": [
      "Getting GO data...\n"
     ]
    },
    {
     "name": "stderr",
     "output_type": "stream",
     "text": [
      "100%|██████████| 4000/4000 [02:11<00:00, 30.35it/s]\n"
     ]
    },
    {
     "name": "stdout",
     "output_type": "stream",
     "text": [
      "Getting C++ data...\n"
     ]
    },
    {
     "name": "stderr",
     "output_type": "stream",
     "text": [
      " 85%|████████▍ | 3397/4000 [00:55<00:09, 61.72it/s] \n"
     ]
    },
    {
     "ename": "KeyboardInterrupt",
     "evalue": "",
     "output_type": "error",
     "traceback": [
      "\u001b[0;31m---------------------------------------------------------------------------\u001b[0m",
      "\u001b[0;31mKeyboardInterrupt\u001b[0m                         Traceback (most recent call last)",
      "Cell \u001b[0;32mIn[5], line 25\u001b[0m\n\u001b[1;32m     15\u001b[0m github_data_files \u001b[38;5;241m=\u001b[39m load_dataset(\n\u001b[1;32m     16\u001b[0m     \u001b[38;5;124m\"\u001b[39m\u001b[38;5;124mcodeparrot/github-code-clean\u001b[39m\u001b[38;5;124m\"\u001b[39m,\n\u001b[1;32m     17\u001b[0m     streaming\u001b[38;5;241m=\u001b[39m\u001b[38;5;28;01mTrue\u001b[39;00m,\n\u001b[0;32m   (...)\u001b[0m\n\u001b[1;32m     21\u001b[0m     \u001b[38;5;66;03m# trust_remote_code=True\u001b[39;00m\n\u001b[1;32m     22\u001b[0m )\u001b[38;5;241m.\u001b[39mtake(n_rows)\n\u001b[1;32m     24\u001b[0m \u001b[38;5;28mprint\u001b[39m(\u001b[38;5;124mf\u001b[39m\u001b[38;5;124m\"\u001b[39m\u001b[38;5;124mGetting \u001b[39m\u001b[38;5;132;01m{\u001b[39;00mlang\u001b[38;5;132;01m}\u001b[39;00m\u001b[38;5;124m data...\u001b[39m\u001b[38;5;124m\"\u001b[39m)\n\u001b[0;32m---> 25\u001b[0m \u001b[38;5;28;01mfor\u001b[39;00m row \u001b[38;5;129;01min\u001b[39;00m tqdm(\u001b[38;5;28miter\u001b[39m(github_data_files), total\u001b[38;5;241m=\u001b[39mn_rows):\n\u001b[1;32m     26\u001b[0m     \u001b[38;5;28;01mif\u001b[39;00m \u001b[38;5;28mlen\u001b[39m(row[\u001b[38;5;124m\"\u001b[39m\u001b[38;5;124mcode\u001b[39m\u001b[38;5;124m\"\u001b[39m]) \u001b[38;5;241m<\u001b[39m\u001b[38;5;241m=\u001b[39m \u001b[38;5;241m4080\u001b[39m:\n\u001b[1;32m     27\u001b[0m         github_data[\u001b[38;5;124m\"\u001b[39m\u001b[38;5;124mresponse\u001b[39m\u001b[38;5;124m\"\u001b[39m]\u001b[38;5;241m.\u001b[39mappend(row[\u001b[38;5;124m\"\u001b[39m\u001b[38;5;124mcode\u001b[39m\u001b[38;5;124m\"\u001b[39m])\n",
      "File \u001b[0;32m~/miniforge3/envs/CodeNetSentinel/lib/python3.9/site-packages/tqdm/std.py:1182\u001b[0m, in \u001b[0;36mtqdm.__iter__\u001b[0;34m(self)\u001b[0m\n\u001b[1;32m   1179\u001b[0m time \u001b[38;5;241m=\u001b[39m \u001b[38;5;28mself\u001b[39m\u001b[38;5;241m.\u001b[39m_time\n\u001b[1;32m   1181\u001b[0m \u001b[38;5;28;01mtry\u001b[39;00m:\n\u001b[0;32m-> 1182\u001b[0m     \u001b[38;5;28;01mfor\u001b[39;00m obj \u001b[38;5;129;01min\u001b[39;00m iterable:\n\u001b[1;32m   1183\u001b[0m         \u001b[38;5;28;01myield\u001b[39;00m obj\n\u001b[1;32m   1184\u001b[0m         \u001b[38;5;66;03m# Update and possibly print the progressbar.\u001b[39;00m\n\u001b[1;32m   1185\u001b[0m         \u001b[38;5;66;03m# Note: does not call self.update(1) for speed optimisation.\u001b[39;00m\n",
      "File \u001b[0;32m~/miniforge3/envs/CodeNetSentinel/lib/python3.9/site-packages/datasets/iterable_dataset.py:1379\u001b[0m, in \u001b[0;36mIterableDataset.__iter__\u001b[0;34m(self)\u001b[0m\n\u001b[1;32m   1376\u001b[0m         \u001b[38;5;28;01myield\u001b[39;00m formatter\u001b[38;5;241m.\u001b[39mformat_row(pa_table)\n\u001b[1;32m   1377\u001b[0m     \u001b[38;5;28;01mreturn\u001b[39;00m\n\u001b[0;32m-> 1379\u001b[0m \u001b[38;5;28;01mfor\u001b[39;00m key, example \u001b[38;5;129;01min\u001b[39;00m ex_iterable:\n\u001b[1;32m   1380\u001b[0m     \u001b[38;5;28;01mif\u001b[39;00m \u001b[38;5;28mself\u001b[39m\u001b[38;5;241m.\u001b[39mfeatures:\n\u001b[1;32m   1381\u001b[0m         \u001b[38;5;66;03m# `IterableDataset` automatically fills missing columns with None.\u001b[39;00m\n\u001b[1;32m   1382\u001b[0m         \u001b[38;5;66;03m# This is done with `_apply_feature_types_on_example`.\u001b[39;00m\n\u001b[1;32m   1383\u001b[0m         example \u001b[38;5;241m=\u001b[39m _apply_feature_types_on_example(\n\u001b[1;32m   1384\u001b[0m             example, \u001b[38;5;28mself\u001b[39m\u001b[38;5;241m.\u001b[39mfeatures, token_per_repo_id\u001b[38;5;241m=\u001b[39m\u001b[38;5;28mself\u001b[39m\u001b[38;5;241m.\u001b[39m_token_per_repo_id\n\u001b[1;32m   1385\u001b[0m         )\n",
      "File \u001b[0;32m~/miniforge3/envs/CodeNetSentinel/lib/python3.9/site-packages/datasets/iterable_dataset.py:1039\u001b[0m, in \u001b[0;36mTakeExamplesIterable.__iter__\u001b[0;34m(self)\u001b[0m\n\u001b[1;32m   1038\u001b[0m \u001b[38;5;28;01mdef\u001b[39;00m \u001b[38;5;21m__iter__\u001b[39m(\u001b[38;5;28mself\u001b[39m):\n\u001b[0;32m-> 1039\u001b[0m     \u001b[38;5;28;01myield from\u001b[39;00m islice(\u001b[38;5;28mself\u001b[39m\u001b[38;5;241m.\u001b[39mex_iterable, \u001b[38;5;28mself\u001b[39m\u001b[38;5;241m.\u001b[39mn)\n",
      "File \u001b[0;32m~/miniforge3/envs/CodeNetSentinel/lib/python3.9/site-packages/datasets/iterable_dataset.py:233\u001b[0m, in \u001b[0;36mExamplesIterable.__iter__\u001b[0;34m(self)\u001b[0m\n\u001b[1;32m    232\u001b[0m \u001b[38;5;28;01mdef\u001b[39;00m \u001b[38;5;21m__iter__\u001b[39m(\u001b[38;5;28mself\u001b[39m):\n\u001b[0;32m--> 233\u001b[0m     \u001b[38;5;28;01myield from\u001b[39;00m \u001b[38;5;28mself\u001b[39m\u001b[38;5;241m.\u001b[39mgenerate_examples_fn(\u001b[38;5;241m*\u001b[39m\u001b[38;5;241m*\u001b[39m\u001b[38;5;28mself\u001b[39m\u001b[38;5;241m.\u001b[39mkwargs)\n",
      "File \u001b[0;32m~/.cache/huggingface/modules/datasets_modules/datasets/codeparrot--github-code-clean/0334c20a77195713845b1339778cdb3a26c75a5c04eb9acc38747b97709a9ec5/github-code-clean.py:180\u001b[0m, in \u001b[0;36mGithubCode._generate_examples\u001b[0;34m(self, files)\u001b[0m\n\u001b[1;32m    178\u001b[0m \u001b[38;5;28;01mwith\u001b[39;00m \u001b[38;5;28mopen\u001b[39m(file, \u001b[38;5;124m\"\u001b[39m\u001b[38;5;124mrb\u001b[39m\u001b[38;5;124m\"\u001b[39m) \u001b[38;5;28;01mas\u001b[39;00m f:\n\u001b[1;32m    179\u001b[0m     parquet_file \u001b[38;5;241m=\u001b[39m pq\u001b[38;5;241m.\u001b[39mParquetFile(f)\n\u001b[0;32m--> 180\u001b[0m     \u001b[38;5;28;01mfor\u001b[39;00m batch_idx, record_batch \u001b[38;5;129;01min\u001b[39;00m \u001b[38;5;28menumerate\u001b[39m(parquet_file\u001b[38;5;241m.\u001b[39miter_batches(batch_size\u001b[38;5;241m=\u001b[39m\u001b[38;5;241m10_000\u001b[39m)):\n\u001b[1;32m    181\u001b[0m         pa_table \u001b[38;5;241m=\u001b[39m pa\u001b[38;5;241m.\u001b[39mTable\u001b[38;5;241m.\u001b[39mfrom_batches([record_batch])\n\u001b[1;32m    182\u001b[0m         \u001b[38;5;28;01mfor\u001b[39;00m row_index \u001b[38;5;129;01min\u001b[39;00m \u001b[38;5;28mrange\u001b[39m(pa_table\u001b[38;5;241m.\u001b[39mnum_rows):\n",
      "\u001b[0;31mKeyboardInterrupt\u001b[0m: "
     ]
    }
   ],
   "source": [
    "# Add variance to CodeNetSearch data\n",
    "n_rows = 4_000\n",
    "languages = [\n",
    "    \"Java\", \"JavaScript\", \"PHP\", \"Python\", \"C\", \"C#\", \"GO\",\n",
    "    \"C++\", \"Ruby\", \"TypeScript\", \"Julia\", \"Lua\", \"Perl\",\n",
    "    \"Rust\", \"SQL\", \"Scala\"\n",
    "]\n",
    "\n",
    "github_data = {\n",
    "    \"response\": [],\n",
    "    \"instruction\": []\n",
    "}\n",
    "\n",
    "for lang in languages:\n",
    "    github_data_files = load_dataset(\n",
    "        \"codeparrot/github-code-clean\",\n",
    "        streaming=True,\n",
    "        split=\"train\",\n",
    "        languages=[lang],\n",
    "        licenses=[\"mit\"],\n",
    "        # trust_remote_code=True\n",
    "    ).take(n_rows)\n",
    "\n",
    "    print(f\"Getting {lang} data...\")\n",
    "    for row in tqdm(iter(github_data_files), total=n_rows):\n",
    "        if len(row[\"code\"]) <= 4080:\n",
    "            github_data[\"response\"].append(row[\"code\"])\n",
    "            github_data[\"instruction\"].append(row[\"language\"].lower())"
   ]
  },
  {
   "cell_type": "code",
   "execution_count": 6,
   "metadata": {},
   "outputs": [
    {
     "data": {
      "text/html": [
       "<div>\n",
       "<style scoped>\n",
       "    .dataframe tbody tr th:only-of-type {\n",
       "        vertical-align: middle;\n",
       "    }\n",
       "\n",
       "    .dataframe tbody tr th {\n",
       "        vertical-align: top;\n",
       "    }\n",
       "\n",
       "    .dataframe thead th {\n",
       "        text-align: right;\n",
       "    }\n",
       "</style>\n",
       "<table border=\"1\" class=\"dataframe\">\n",
       "  <thead>\n",
       "    <tr style=\"text-align: right;\">\n",
       "      <th></th>\n",
       "      <th>response</th>\n",
       "      <th>instruction</th>\n",
       "    </tr>\n",
       "  </thead>\n",
       "  <tbody>\n",
       "    <tr>\n",
       "      <th>0</th>\n",
       "      <td>package com.jeecg.qywx.core.service;\\n\\nimport...</td>\n",
       "      <td>java</td>\n",
       "    </tr>\n",
       "    <tr>\n",
       "      <th>1</th>\n",
       "      <td>/**\\n * Copyright (c) Microsoft Corporation. A...</td>\n",
       "      <td>java</td>\n",
       "    </tr>\n",
       "    <tr>\n",
       "      <th>2</th>\n",
       "      <td>package se.dsv.waora.deviceinternetinformation...</td>\n",
       "      <td>java</td>\n",
       "    </tr>\n",
       "    <tr>\n",
       "      <th>3</th>\n",
       "      <td>package com.github.kwoin.kgate.core.sequencer;...</td>\n",
       "      <td>java</td>\n",
       "    </tr>\n",
       "    <tr>\n",
       "      <th>4</th>\n",
       "      <td>package fr.pizzeria.admin.web;\\n\\nimport java....</td>\n",
       "      <td>java</td>\n",
       "    </tr>\n",
       "    <tr>\n",
       "      <th>...</th>\n",
       "      <td>...</td>\n",
       "      <td>...</td>\n",
       "    </tr>\n",
       "    <tr>\n",
       "      <th>22490</th>\n",
       "      <td>/* TEMPLATE GENERATED TESTCASE FILE\\r\\nFilenam...</td>\n",
       "      <td>c++</td>\n",
       "    </tr>\n",
       "    <tr>\n",
       "      <th>22491</th>\n",
       "      <td>/**\\n * @file\\tsrc/core/ExecutionAbortedExcept...</td>\n",
       "      <td>c++</td>\n",
       "    </tr>\n",
       "    <tr>\n",
       "      <th>22492</th>\n",
       "      <td>#include \"pch.h\"\\n#include \"submarine.h\"\\n\\n#i...</td>\n",
       "      <td>c++</td>\n",
       "    </tr>\n",
       "    <tr>\n",
       "      <th>22493</th>\n",
       "      <td>/*\\n * FILE: Whats_Cryptanalysis-10008.cpp\\n *...</td>\n",
       "      <td>c++</td>\n",
       "    </tr>\n",
       "    <tr>\n",
       "      <th>22494</th>\n",
       "      <td>﻿#pragma once\\r\\n\\r\\n#include \"estest/protogro...</td>\n",
       "      <td>c++</td>\n",
       "    </tr>\n",
       "  </tbody>\n",
       "</table>\n",
       "<p>22495 rows × 2 columns</p>\n",
       "</div>"
      ],
      "text/plain": [
       "                                                response instruction\n",
       "0      package com.jeecg.qywx.core.service;\\n\\nimport...        java\n",
       "1      /**\\n * Copyright (c) Microsoft Corporation. A...        java\n",
       "2      package se.dsv.waora.deviceinternetinformation...        java\n",
       "3      package com.github.kwoin.kgate.core.sequencer;...        java\n",
       "4      package fr.pizzeria.admin.web;\\n\\nimport java....        java\n",
       "...                                                  ...         ...\n",
       "22490  /* TEMPLATE GENERATED TESTCASE FILE\\r\\nFilenam...         c++\n",
       "22491  /**\\n * @file\\tsrc/core/ExecutionAbortedExcept...         c++\n",
       "22492  #include \"pch.h\"\\n#include \"submarine.h\"\\n\\n#i...         c++\n",
       "22493  /*\\n * FILE: Whats_Cryptanalysis-10008.cpp\\n *...         c++\n",
       "22494  ﻿#pragma once\\r\\n\\r\\n#include \"estest/protogro...         c++\n",
       "\n",
       "[22495 rows x 2 columns]"
      ]
     },
     "execution_count": 6,
     "metadata": {},
     "output_type": "execute_result"
    }
   ],
   "source": [
    "github_data = pd.DataFrame(github_data)\n",
    "\n",
    "github_data"
   ]
  },
  {
   "cell_type": "code",
   "execution_count": 7,
   "metadata": {},
   "outputs": [
    {
     "data": {
      "text/plain": [
       "<Axes: xlabel='instruction'>"
      ]
     },
     "execution_count": 7,
     "metadata": {},
     "output_type": "execute_result"
    },
    {
     "data": {
      "image/png": "[encoded data removed]",
      "text/plain": [
       "<Figure size 640x480 with 1 Axes>"
      ]
     },
     "metadata": {},
     "output_type": "display_data"
    }
   ],
   "source": [
    "github_data[\"instruction\"].value_counts().plot.bar()"
   ]
  },
  {
   "cell_type": "markdown",
   "metadata": {},
   "source": [
    "## Magicoder Evol Instruct Data"
   ]
  },
  {
   "cell_type": "code",
   "execution_count": 8,
   "metadata": {},
   "outputs": [
    {
     "data": {
      "text/plain": [
       "DatasetDict({\n",
       "    train: Dataset({\n",
       "        features: ['instruction', 'response'],\n",
       "        num_rows: 111183\n",
       "    })\n",
       "})"
      ]
     },
     "execution_count": 8,
     "metadata": {},
     "output_type": "execute_result"
    }
   ],
   "source": [
    "magi_coder_data = load_dataset(\"ise-uiuc/Magicoder-Evol-Instruct-110K\")\n",
    "\n",
    "magi_coder_data\n"
   ]
  },
  {
   "cell_type": "code",
   "execution_count": 9,
   "metadata": {},
   "outputs": [
    {
     "data": {
      "text/html": [
       "<div>\n",
       "<style scoped>\n",
       "    .dataframe tbody tr th:only-of-type {\n",
       "        vertical-align: middle;\n",
       "    }\n",
       "\n",
       "    .dataframe tbody tr th {\n",
       "        vertical-align: top;\n",
       "    }\n",
       "\n",
       "    .dataframe thead th {\n",
       "        text-align: right;\n",
       "    }\n",
       "</style>\n",
       "<table border=\"1\" class=\"dataframe\">\n",
       "  <thead>\n",
       "    <tr style=\"text-align: right;\">\n",
       "      <th></th>\n",
       "      <th>instruction</th>\n",
       "      <th>response</th>\n",
       "    </tr>\n",
       "  </thead>\n",
       "  <tbody>\n",
       "    <tr>\n",
       "      <th>0</th>\n",
       "      <td>Please amend the subsequent Python script so t...</td>\n",
       "      <td>```python\\n# Establish an integer list\\narr = ...</td>\n",
       "    </tr>\n",
       "    <tr>\n",
       "      <th>1</th>\n",
       "      <td>i've got this python code from an ocr tool, bu...</td>\n",
       "      <td>There are several issues with your code like f...</td>\n",
       "    </tr>\n",
       "    <tr>\n",
       "      <th>2</th>\n",
       "      <td>Create a recursive function in Java that predi...</td>\n",
       "      <td>You can achieve this using a combination of re...</td>\n",
       "    </tr>\n",
       "    <tr>\n",
       "      <th>3</th>\n",
       "      <td>Develop a program that uses natural language p...</td>\n",
       "      <td>This task requires writing of a significant vo...</td>\n",
       "    </tr>\n",
       "    <tr>\n",
       "      <th>4</th>\n",
       "      <td>I am trying to create a load testing script fo...</td>\n",
       "      <td>The correct approach would depend on the preci...</td>\n",
       "    </tr>\n",
       "    <tr>\n",
       "      <th>...</th>\n",
       "      <td>...</td>\n",
       "      <td>...</td>\n",
       "    </tr>\n",
       "    <tr>\n",
       "      <th>111178</th>\n",
       "      <td>Conduct a comprehensive exploratory data analy...</td>\n",
       "      <td>Sorry, as an AI developed by Open AI, I can't ...</td>\n",
       "    </tr>\n",
       "    <tr>\n",
       "      <th>111179</th>\n",
       "      <td>I used OCR to get this Python code, but it's f...</td>\n",
       "      <td>Sure, I can help with that. Let me reformat th...</td>\n",
       "    </tr>\n",
       "    <tr>\n",
       "      <th>111180</th>\n",
       "      <td>Write a JavaScript function that will take an ...</td>\n",
       "      <td>Sure, I'll provide you with a simple example o...</td>\n",
       "    </tr>\n",
       "    <tr>\n",
       "      <th>111181</th>\n",
       "      <td>Is there a PDE that decomposes the daily PnL a...</td>\n",
       "      <td>In the Bachelier model, or normally distribute...</td>\n",
       "    </tr>\n",
       "    <tr>\n",
       "      <th>111182</th>\n",
       "      <td>Construct a C++ program that generates and dis...</td>\n",
       "      <td>C++ program to generate and display an arithme...</td>\n",
       "    </tr>\n",
       "  </tbody>\n",
       "</table>\n",
       "<p>111183 rows × 2 columns</p>\n",
       "</div>"
      ],
      "text/plain": [
       "                                              instruction  \\\n",
       "0       Please amend the subsequent Python script so t...   \n",
       "1       i've got this python code from an ocr tool, bu...   \n",
       "2       Create a recursive function in Java that predi...   \n",
       "3       Develop a program that uses natural language p...   \n",
       "4       I am trying to create a load testing script fo...   \n",
       "...                                                   ...   \n",
       "111178  Conduct a comprehensive exploratory data analy...   \n",
       "111179  I used OCR to get this Python code, but it's f...   \n",
       "111180  Write a JavaScript function that will take an ...   \n",
       "111181  Is there a PDE that decomposes the daily PnL a...   \n",
       "111182  Construct a C++ program that generates and dis...   \n",
       "\n",
       "                                                 response  \n",
       "0       ```python\\n# Establish an integer list\\narr = ...  \n",
       "1       There are several issues with your code like f...  \n",
       "2       You can achieve this using a combination of re...  \n",
       "3       This task requires writing of a significant vo...  \n",
       "4       The correct approach would depend on the preci...  \n",
       "...                                                   ...  \n",
       "111178  Sorry, as an AI developed by Open AI, I can't ...  \n",
       "111179  Sure, I can help with that. Let me reformat th...  \n",
       "111180  Sure, I'll provide you with a simple example o...  \n",
       "111181  In the Bachelier model, or normally distribute...  \n",
       "111182  C++ program to generate and display an arithme...  \n",
       "\n",
       "[111183 rows x 2 columns]"
      ]
     },
     "execution_count": 9,
     "metadata": {},
     "output_type": "execute_result"
    }
   ],
   "source": [
    "magi_coder_data = pd.DataFrame(magi_coder_data[\"train\"])\n",
    "\n",
    "magi_coder_data"
   ]
  },
  {
   "cell_type": "markdown",
   "metadata": {},
   "source": [
    "## Combine Data"
   ]
  },
  {
   "cell_type": "code",
   "execution_count": 10,
   "metadata": {},
   "outputs": [
    {
     "data": {
      "text/html": [
       "<div>\n",
       "<style scoped>\n",
       "    .dataframe tbody tr th:only-of-type {\n",
       "        vertical-align: middle;\n",
       "    }\n",
       "\n",
       "    .dataframe tbody tr th {\n",
       "        vertical-align: top;\n",
       "    }\n",
       "\n",
       "    .dataframe thead th {\n",
       "        text-align: right;\n",
       "    }\n",
       "</style>\n",
       "<table border=\"1\" class=\"dataframe\">\n",
       "  <thead>\n",
       "    <tr style=\"text-align: right;\">\n",
       "      <th></th>\n",
       "      <th>instruction</th>\n",
       "      <th>response</th>\n",
       "    </tr>\n",
       "  </thead>\n",
       "  <tbody>\n",
       "    <tr>\n",
       "      <th>45056</th>\n",
       "      <td>[CLS]Embark on a comprehensive journey into th...</td>\n",
       "      <td>[BOS]To journey into the labyrinthine world of...</td>\n",
       "    </tr>\n",
       "    <tr>\n",
       "      <th>70224</th>\n",
       "      <td>[CLS]help me translate to php\\nfrom dask.distr...</td>\n",
       "      <td>[BOS]In PHP, there isn't a direct equivalent t...</td>\n",
       "    </tr>\n",
       "    <tr>\n",
       "      <th>1246</th>\n",
       "      <td>[CLS]java[SEP]</td>\n",
       "      <td>[BOS]package com.nomeautomation.utility.server...</td>\n",
       "    </tr>\n",
       "    <tr>\n",
       "      <th>22340</th>\n",
       "      <td>[CLS]c++[SEP]</td>\n",
       "      <td>[BOS]/*\\n   For more information, please see: ...</td>\n",
       "    </tr>\n",
       "    <tr>\n",
       "      <th>9100</th>\n",
       "      <td>[CLS]php[SEP]</td>\n",
       "      <td>[BOS]&lt;?php\\n\\n/* TwigBundle:Exception:error.rd...</td>\n",
       "    </tr>\n",
       "    <tr>\n",
       "      <th>...</th>\n",
       "      <td>...</td>\n",
       "      <td>...</td>\n",
       "    </tr>\n",
       "    <tr>\n",
       "      <th>35556</th>\n",
       "      <td>[CLS]Consider an unending sequence of real num...</td>\n",
       "      <td>[BOS]The series quickly overflows a double-pre...</td>\n",
       "    </tr>\n",
       "    <tr>\n",
       "      <th>77022</th>\n",
       "      <td>[CLS]Construct a Java program that prompts the...</td>\n",
       "      <td>[BOS]Here's a simple Java program that solves ...</td>\n",
       "    </tr>\n",
       "    <tr>\n",
       "      <th>101902</th>\n",
       "      <td>[CLS]I was studying Markowitz portfolio optimi...</td>\n",
       "      <td>[BOS]Markowitz portfolio optimization involves...</td>\n",
       "    </tr>\n",
       "    <tr>\n",
       "      <th>37948</th>\n",
       "      <td>[CLS]A jet plane takes 5 hours less to travel ...</td>\n",
       "      <td>[BOS]We'll call the time taken by the passenge...</td>\n",
       "    </tr>\n",
       "    <tr>\n",
       "      <th>6154</th>\n",
       "      <td>[CLS]I'm using LINQ to SQL classes in a projec...</td>\n",
       "      <td>[BOS]Yes, there are ways to synchronize your L...</td>\n",
       "    </tr>\n",
       "  </tbody>\n",
       "</table>\n",
       "<p>133678 rows × 2 columns</p>\n",
       "</div>"
      ],
      "text/plain": [
       "                                              instruction  \\\n",
       "45056   [CLS]Embark on a comprehensive journey into th...   \n",
       "70224   [CLS]help me translate to php\\nfrom dask.distr...   \n",
       "1246                                       [CLS]java[SEP]   \n",
       "22340                                       [CLS]c++[SEP]   \n",
       "9100                                        [CLS]php[SEP]   \n",
       "...                                                   ...   \n",
       "35556   [CLS]Consider an unending sequence of real num...   \n",
       "77022   [CLS]Construct a Java program that prompts the...   \n",
       "101902  [CLS]I was studying Markowitz portfolio optimi...   \n",
       "37948   [CLS]A jet plane takes 5 hours less to travel ...   \n",
       "6154    [CLS]I'm using LINQ to SQL classes in a projec...   \n",
       "\n",
       "                                                 response  \n",
       "45056   [BOS]To journey into the labyrinthine world of...  \n",
       "70224   [BOS]In PHP, there isn't a direct equivalent t...  \n",
       "1246    [BOS]package com.nomeautomation.utility.server...  \n",
       "22340   [BOS]/*\\n   For more information, please see: ...  \n",
       "9100    [BOS]<?php\\n\\n/* TwigBundle:Exception:error.rd...  \n",
       "...                                                   ...  \n",
       "35556   [BOS]The series quickly overflows a double-pre...  \n",
       "77022   [BOS]Here's a simple Java program that solves ...  \n",
       "101902  [BOS]Markowitz portfolio optimization involves...  \n",
       "37948   [BOS]We'll call the time taken by the passenge...  \n",
       "6154    [BOS]Yes, there are ways to synchronize your L...  \n",
       "\n",
       "[133678 rows x 2 columns]"
      ]
     },
     "execution_count": 10,
     "metadata": {},
     "output_type": "execute_result"
    }
   ],
   "source": [
    "all_data = pd.concat([\n",
    "    magi_coder_data,\n",
    "    github_data[[\"instruction\", \"response\"]]\n",
    "], axis=0)\n",
    "\n",
    "# shuffle the data\n",
    "all_data = all_data.sample(frac=1)\n",
    "\n",
    "# Append CLS and SEP tokens to the instruction column\n",
    "all_data[\"instruction\"] = Tokenizer.cls_token + all_data[\"instruction\"] + Tokenizer.sep_token\n",
    "\n",
    "# Append BOS and EOS tokens to the response column\n",
    "all_data[\"response\"] = Tokenizer.bos_token + all_data[\"response\"] + Tokenizer.eos_token\n",
    "\n",
    "\n",
    "all_data"
   ]
  },
  {
   "cell_type": "markdown",
   "metadata": {},
   "source": [
    "## Tokenization"
   ]
  },
  {
   "cell_type": "code",
   "execution_count": 11,
   "metadata": {},
   "outputs": [],
   "source": [
    "def tokenize_data(dataset):\n",
    "    tokenized_pairs = {\n",
    "        \"instructions\": [],\n",
    "        \"instructions_pad_masks\": [],\n",
    "        \"responses\": [],\n",
    "        \"responses_pad_masks\": [],\n",
    "        \"targets\": []\n",
    "    }\n",
    "\n",
    "    # number of rows with acceptable instruction lengths\n",
    "    accepted_rows = 0\n",
    "\n",
    "    for instruction, response in tqdm(dataset[[\"instruction\", \"response\"]].values):\n",
    "        tokenized_instruction = Tokenizer.encode(\n",
    "            instruction,\n",
    "            max_length=30_000,\n",
    "            truncation=True,\n",
    "            return_tensors=\"pt\",\n",
    "        )[0]\n",
    "\n",
    "        # If the instruction statement is greater than the MAX_TOKENS, then skip this row\n",
    "        # altogether because we do not want to confuse the model with half-instructions.\n",
    "        instruction_len = len(tokenized_instruction)\n",
    "        if instruction_len > CONFIG.max_instruct_len:\n",
    "            continue\n",
    "\n",
    "        accepted_rows += 1\n",
    "\n",
    "        padded_instruction = torch.full((CONFIG.max_instruct_len,), Tokenizer.pad_token_id, dtype=torch.int64)\n",
    "        padded_instruction[:instruction_len] = tokenized_instruction\n",
    "        instruction_pad_mask = padded_instruction == Tokenizer.pad_token_id\n",
    "\n",
    "        response_tokenized_batch = Tokenizer.batch_encode_plus(\n",
    "            batch_text_or_text_pairs=[response],\n",
    "            truncation=True,\n",
    "            max_length=CONFIG.max_seq_len + 1, # +1 to account for target shift\n",
    "            padding=\"max_length\",\n",
    "            stride=CONFIG.tokenized_stride,\n",
    "            return_overflowing_tokens=True,\n",
    "            return_attention_mask=True,\n",
    "            return_tensors=\"pt\",\n",
    "        )\n",
    "\n",
    "        for idx in range(len(response_tokenized_batch[\"input_ids\"])):\n",
    "            # Add the instruction\n",
    "            tokenized_pairs[\"instructions\"].append(padded_instruction)\n",
    "            tokenized_pairs[\"instructions_pad_masks\"].append(instruction_pad_mask)\n",
    "            # Add the response\n",
    "            tokenized_pairs[\"responses\"].append(response_tokenized_batch[\"input_ids\"][idx, :-1])\n",
    "            tokenized_pairs[\"responses_pad_masks\"].append(~(response_tokenized_batch[\"attention_mask\"][idx, :-1].bool()))\n",
    "            # Add the target\n",
    "            tokenized_pairs[\"targets\"].append(response_tokenized_batch[\"input_ids\"][idx, 1:])\n",
    "    \n",
    "    return tokenized_pairs, accepted_rows\n"
   ]
  },
  {
   "cell_type": "code",
   "execution_count": 12,
   "metadata": {},
   "outputs": [],
   "source": [
    "dataset_size = len(all_data)\n",
    "indices = list(range(dataset_size))\n",
    "\n",
    "if isinstance(CONFIG.val_split, float):\n",
    "    split = int(np.floor(CONFIG.val_split * dataset_size))\n",
    "else:\n",
    "    split = CONFIG.val_split\n",
    "\n",
    "if CONFIG.shuffle_dataset:\n",
    "    np.random.seed(CONFIG.random_seed)\n",
    "    np.random.shuffle(indices)\n",
    "\n",
    "train_indices, val_indices = indices[split:], indices[:split]"
   ]
  },
  {
   "cell_type": "code",
   "execution_count": 13,
   "metadata": {},
   "outputs": [
    {
     "name": "stderr",
     "output_type": "stream",
     "text": [
      "100%|██████████| 120311/120311 [02:41<00:00, 743.77it/s]\n"
     ]
    },
    {
     "name": "stdout",
     "output_type": "stream",
     "text": [
      "Number of Unique Instructions: 116503\n",
      "Number of Rows in Training Data: 134760\n"
     ]
    }
   ],
   "source": [
    "tokenized_train_data, accepted_train_rows = tokenize_data(all_data.iloc[train_indices])\n",
    "TRAIN_DATA = CodeGenDataset(tokenized_train_data, VOCAB_SIZE)\n",
    "\n",
    "print(\"Number of Unique Instructions:\", accepted_train_rows)\n",
    "print(\"Number of Rows in Training Data:\", len(TRAIN_DATA))"
   ]
  },
  {
   "cell_type": "code",
   "execution_count": 14,
   "metadata": {},
   "outputs": [
    {
     "data": {
      "text/plain": [
       "array([<Axes: title={'center': 'Training Responses Lengths'}>],\n",
       "      dtype=object)"
      ]
     },
     "execution_count": 14,
     "metadata": {},
     "output_type": "execute_result"
    },
    {
     "data": {
      "image/png": "[encoded data removed]",
      "text/plain": [
       "<Figure size 1500x500 with 2 Axes>"
      ]
     },
     "metadata": {},
     "output_type": "display_data"
    }
   ],
   "source": [
    "fig, axes = plt.subplots(nrows=1, ncols=2, figsize=(15, 5))\n",
    "pd.DataFrame(CONFIG.max_seq_len - TRAIN_DATA.instructions_pad_masks.sum(axis=1), columns=[\"Training Instruction Lengths\"]).hist(ax=axes[0])\n",
    "pd.DataFrame(CONFIG.max_seq_len - TRAIN_DATA.responses_pad_masks.sum(axis=1), columns=[\"Training Responses Lengths\"]).hist(ax=axes[1])"
   ]
  },
  {
   "cell_type": "code",
   "execution_count": 15,
   "metadata": {},
   "outputs": [
    {
     "name": "stderr",
     "output_type": "stream",
     "text": [
      "100%|██████████| 13367/13367 [00:17<00:00, 783.71it/s]\n"
     ]
    },
    {
     "name": "stdout",
     "output_type": "stream",
     "text": [
      "Number of Unique Instructions: 12942\n",
      "Number of Rows in Validation Data: 14898\n"
     ]
    }
   ],
   "source": [
    "tokenized_val_data, accepted_val_rows = tokenize_data(all_data.iloc[val_indices])\n",
    "VAL_DATA = CodeGenDataset(tokenized_val_data, VOCAB_SIZE)\n",
    "\n",
    "print(\"Number of Unique Instructions:\", accepted_val_rows)\n",
    "print(\"Number of Rows in Validation Data:\", len(VAL_DATA))"
   ]
  },
  {
   "cell_type": "code",
   "execution_count": 16,
   "metadata": {},
   "outputs": [
    {
     "data": {
      "text/plain": [
       "array([<Axes: title={'center': 'Validation Responses Lengths'}>],\n",
       "      dtype=object)"
      ]
     },
     "execution_count": 16,
     "metadata": {},
     "output_type": "execute_result"
    },
    {
     "data": {
      "image/png": "[encoded data removed]",
      "text/plain": [
       "<Figure size 1500x500 with 2 Axes>"
      ]
     },
     "metadata": {},
     "output_type": "display_data"
    }
   ],
   "source": [
    "fig, axes = plt.subplots(nrows=1, ncols=2, figsize=(15, 5))\n",
    "pd.DataFrame(CONFIG.max_seq_len - VAL_DATA.instructions_pad_masks.sum(axis=1), columns=[\"Validation Instruction Lengths\"]).hist(ax=axes[0])\n",
    "pd.DataFrame(CONFIG.max_seq_len - VAL_DATA.responses_pad_masks.sum(axis=1), columns=[\"Validation Responses Lengths\"]).hist(ax=axes[1])"
   ]
  },
  {
   "cell_type": "code",
   "execution_count": 17,
   "metadata": {},
   "outputs": [
    {
     "name": "stdout",
     "output_type": "stream",
     "text": [
      "[CLS]Create a function that, given a list of integers input, returns a list of their absolute values, sorted in increasing order. This function should also handle empty lists and invalid inputs. Ensure the function works as illustrated in the example provided:\n",
      "\n",
      "```python\n",
      "def sorted_absolute_values(numbers: list):\n",
      "    \"\"\"Return sorted list of absolute values\n",
      "    >>> sorted_absolute_values([-5, 3, -2, 2, 3, -3, 9, 0, -123])\n",
      "    [0, 2, 2, 3, 3, 3, 5, 9, 123]\n",
      "    \"\"\"\n",
      "    ```[SEP][PAD][PAD][PAD][PAD][PAD][PAD][PAD][PAD][PAD][PAD][PAD][PAD][PAD][PAD][PAD][PAD][PAD][PAD][PAD][PAD][PAD][PAD][PAD][PAD][PAD][PAD][PAD][PAD][PAD][PAD][PAD][PAD][PAD][PAD][PAD][PAD][PAD][PAD][PAD][PAD][PAD][PAD][PAD][PAD][PAD][PAD][PAD][PAD][PAD][PAD][PAD][PAD][PAD][PAD][PAD][PAD][PAD][PAD][PAD][PAD][PAD][PAD][PAD][PAD][PAD][PAD][PAD][PAD][PAD][PAD][PAD][PAD][PAD][PAD][PAD][PAD][PAD][PAD][PAD][PAD][PAD][PAD][PAD][PAD][PAD][PAD][PAD][PAD][PAD][PAD][PAD][PAD][PAD][PAD][PAD][PAD][PAD][PAD][PAD][PAD][PAD][PAD][PAD][PAD][PAD][PAD][PAD][PAD][PAD][PAD][PAD][PAD][PAD][PAD][PAD][PAD][PAD][PAD][PAD][PAD][PAD][PAD][PAD][PAD][PAD][PAD][PAD][PAD][PAD][PAD][PAD][PAD][PAD][PAD][PAD][PAD][PAD][PAD][PAD][PAD][PAD][PAD][PAD][PAD][PAD][PAD][PAD][PAD][PAD][PAD][PAD][PAD][PAD][PAD][PAD][PAD][PAD][PAD][PAD][PAD][PAD][PAD][PAD][PAD][PAD][PAD][PAD][PAD][PAD][PAD][PAD][PAD][PAD][PAD][PAD][PAD][PAD][PAD][PAD][PAD][PAD][PAD][PAD][PAD][PAD][PAD][PAD][PAD][PAD][PAD][PAD][PAD][PAD][PAD][PAD][PAD][PAD][PAD][PAD][PAD][PAD][PAD][PAD][PAD][PAD][PAD][PAD][PAD][PAD][PAD][PAD][PAD][PAD][PAD][PAD][PAD][PAD][PAD][PAD][PAD][PAD][PAD][PAD][PAD][PAD][PAD][PAD][PAD][PAD][PAD][PAD][PAD][PAD][PAD][PAD][PAD][PAD][PAD][PAD][PAD][PAD][PAD][PAD][PAD][PAD][PAD][PAD][PAD][PAD][PAD][PAD][PAD][PAD][PAD][PAD][PAD][PAD][PAD][PAD][PAD][PAD][PAD][PAD][PAD][PAD][PAD][PAD][PAD][PAD][PAD][PAD][PAD][PAD][PAD][PAD][PAD][PAD][PAD][PAD][PAD][PAD][PAD][PAD][PAD][PAD][PAD][PAD][PAD][PAD][PAD][PAD][PAD][PAD][PAD][PAD][PAD][PAD][PAD][PAD][PAD][PAD][PAD][PAD][PAD][PAD][PAD][PAD][PAD][PAD][PAD][PAD][PAD][PAD][PAD][PAD][PAD][PAD][PAD][PAD][PAD][PAD][PAD][PAD][PAD][PAD][PAD][PAD][PAD][PAD][PAD][PAD][PAD][PAD][PAD][PAD][PAD][PAD][PAD][PAD][PAD][PAD][PAD][PAD][PAD][PAD][PAD][PAD][PAD][PAD][PAD][PAD][PAD][PAD][PAD][PAD][PAD][PAD][PAD][PAD][PAD][PAD][PAD][PAD][PAD][PAD][PAD][PAD][PAD][PAD][PAD][PAD][PAD][PAD][PAD][PAD][PAD][PAD][PAD][PAD][PAD][PAD][PAD][PAD][PAD][PAD][PAD][PAD][PAD][PAD][PAD][PAD][PAD][PAD][PAD][PAD][PAD][PAD][PAD][PAD][PAD][PAD][PAD][PAD][PAD][PAD][PAD][PAD][PAD][PAD][PAD][PAD][PAD][PAD][PAD][PAD][PAD][PAD][PAD][PAD][PAD][PAD][PAD][PAD][PAD][PAD][PAD][PAD][PAD][PAD][PAD][PAD][PAD][PAD][PAD][PAD][PAD][PAD][PAD][PAD][PAD][PAD][PAD][PAD][PAD][PAD][PAD][PAD][PAD][PAD][PAD][PAD][PAD][PAD][PAD][PAD][PAD][PAD][PAD][PAD][PAD][PAD][PAD][PAD][PAD][PAD][PAD][PAD][PAD][PAD][PAD][PAD][PAD][PAD][PAD][PAD][PAD][PAD][PAD][PAD][PAD][PAD][PAD][PAD][PAD][PAD][PAD][PAD][PAD][PAD][PAD][PAD][PAD][PAD][PAD][PAD][PAD][PAD][PAD][PAD][PAD][PAD][PAD][PAD][PAD][PAD][PAD][PAD][PAD][PAD][PAD][PAD][PAD][PAD][PAD][PAD][PAD][PAD][PAD][PAD][PAD][PAD][PAD][PAD][PAD][PAD][PAD][PAD][PAD][PAD][PAD][PAD][PAD][PAD][PAD][PAD][PAD][PAD][PAD][PAD][PAD][PAD][PAD][PAD][PAD][PAD][PAD][PAD][PAD][PAD][PAD][PAD][PAD][PAD][PAD][PAD][PAD][PAD][PAD][PAD][PAD][PAD][PAD][PAD][PAD][PAD][PAD][PAD][PAD][PAD][PAD][PAD][PAD][PAD][PAD][PAD][PAD][PAD][PAD][PAD][PAD][PAD][PAD][PAD][PAD][PAD][PAD][PAD][PAD][PAD][PAD][PAD][PAD][PAD][PAD][PAD][PAD][PAD][PAD][PAD][PAD][PAD][PAD][PAD][PAD][PAD][PAD][PAD][PAD][PAD][PAD][PAD][PAD][PAD][PAD][PAD][PAD][PAD][PAD][PAD][PAD][PAD][PAD][PAD]\n"
     ]
    }
   ],
   "source": [
    "print(Tokenizer.decode(TRAIN_DATA[1][\"instructions\"]))"
   ]
  },
  {
   "cell_type": "code",
   "execution_count": 18,
   "metadata": {},
   "outputs": [
    {
     "name": "stdout",
     "output_type": "stream",
     "text": [
      "[BOS]Here is a Python solution using list comprehension and error handling:\n",
      "\n",
      "```python\n",
      "def sorted_absolute_values(numbers):\n",
      "    try:\n",
      "        return sorted([abs(num) for num in numbers])\n",
      "    except (TypeError, ValueError):\n",
      "        return 'invalid input'\n",
      "\n",
      "print(sorted_absolute_values([-5, 3, -2, 2, 3, -3, 9, 0, -123]))  # Returns: [0, 2, 2, 3, 3, 3, 5, 9, 123]\n",
      "print(sorted_absolute_values([]))  # Returns: []\n",
      "print(sorted_absolute_values('invalid input'))  # Returns: 'invalid input'\n",
      "```\n",
      "\n",
      "This function takes a list of numbers as input, converts them to their absolute values, sorts them and returns this sorted list. If the input is not a list or contains non-integer elements, it returns 'invalid input'.[EOS][PAD][PAD][PAD][PAD][PAD][PAD][PAD][PAD][PAD][PAD][PAD][PAD][PAD][PAD][PAD][PAD][PAD][PAD][PAD][PAD][PAD][PAD][PAD][PAD][PAD][PAD][PAD][PAD][PAD][PAD][PAD][PAD][PAD][PAD][PAD][PAD][PAD][PAD][PAD][PAD][PAD][PAD][PAD][PAD][PAD][PAD][PAD][PAD][PAD][PAD][PAD][PAD][PAD][PAD][PAD][PAD][PAD][PAD][PAD][PAD][PAD][PAD][PAD][PAD][PAD][PAD][PAD][PAD][PAD][PAD][PAD][PAD][PAD][PAD][PAD][PAD][PAD][PAD][PAD][PAD][PAD][PAD][PAD][PAD][PAD][PAD][PAD][PAD][PAD][PAD][PAD][PAD][PAD][PAD][PAD][PAD][PAD][PAD][PAD][PAD][PAD][PAD][PAD][PAD][PAD][PAD][PAD][PAD][PAD][PAD][PAD][PAD][PAD][PAD][PAD][PAD][PAD][PAD][PAD][PAD][PAD][PAD][PAD][PAD][PAD][PAD][PAD][PAD][PAD][PAD][PAD][PAD][PAD][PAD][PAD][PAD][PAD][PAD][PAD][PAD][PAD][PAD][PAD][PAD][PAD][PAD][PAD][PAD][PAD][PAD][PAD][PAD][PAD][PAD][PAD][PAD][PAD][PAD][PAD][PAD][PAD][PAD][PAD][PAD][PAD][PAD][PAD][PAD][PAD][PAD][PAD][PAD][PAD][PAD][PAD][PAD][PAD][PAD][PAD][PAD][PAD][PAD][PAD][PAD][PAD][PAD][PAD][PAD][PAD][PAD][PAD][PAD][PAD][PAD][PAD][PAD][PAD][PAD][PAD][PAD][PAD][PAD][PAD][PAD][PAD][PAD][PAD][PAD][PAD][PAD][PAD][PAD][PAD][PAD][PAD][PAD][PAD][PAD][PAD][PAD][PAD][PAD][PAD][PAD][PAD][PAD][PAD][PAD][PAD][PAD][PAD][PAD][PAD][PAD][PAD][PAD][PAD][PAD][PAD][PAD][PAD][PAD][PAD][PAD][PAD][PAD][PAD][PAD][PAD][PAD][PAD][PAD][PAD][PAD][PAD][PAD][PAD][PAD][PAD][PAD][PAD][PAD][PAD][PAD][PAD][PAD][PAD][PAD][PAD][PAD][PAD][PAD][PAD][PAD][PAD][PAD][PAD][PAD][PAD][PAD][PAD][PAD][PAD][PAD][PAD][PAD][PAD][PAD][PAD][PAD][PAD][PAD][PAD][PAD][PAD][PAD][PAD][PAD][PAD][PAD][PAD][PAD][PAD][PAD][PAD][PAD][PAD][PAD][PAD][PAD][PAD][PAD][PAD][PAD][PAD][PAD][PAD][PAD][PAD][PAD][PAD][PAD][PAD][PAD][PAD][PAD][PAD][PAD][PAD][PAD][PAD][PAD][PAD][PAD][PAD][PAD][PAD][PAD][PAD][PAD][PAD][PAD][PAD][PAD][PAD][PAD][PAD][PAD][PAD][PAD][PAD][PAD][PAD][PAD][PAD][PAD][PAD][PAD][PAD][PAD][PAD][PAD][PAD][PAD][PAD][PAD][PAD][PAD][PAD][PAD][PAD][PAD][PAD][PAD][PAD][PAD][PAD][PAD][PAD][PAD][PAD][PAD][PAD][PAD][PAD][PAD][PAD][PAD][PAD][PAD][PAD][PAD][PAD][PAD][PAD][PAD][PAD][PAD][PAD][PAD][PAD][PAD][PAD][PAD][PAD][PAD][PAD][PAD][PAD][PAD][PAD][PAD][PAD][PAD][PAD][PAD][PAD][PAD][PAD][PAD][PAD][PAD][PAD][PAD][PAD][PAD][PAD][PAD][PAD][PAD][PAD][PAD][PAD][PAD][PAD][PAD][PAD][PAD][PAD][PAD][PAD][PAD][PAD][PAD][PAD][PAD][PAD][PAD][PAD][PAD][PAD][PAD][PAD][PAD][PAD][PAD][PAD][PAD][PAD][PAD][PAD][PAD][PAD][PAD][PAD][PAD][PAD][PAD][PAD][PAD][PAD][PAD][PAD][PAD][PAD][PAD][PAD][PAD][PAD][PAD][PAD][PAD][PAD][PAD][PAD][PAD][PAD][PAD][PAD][PAD][PAD][PAD][PAD][PAD][PAD][PAD][PAD][PAD][PAD][PAD][PAD][PAD][PAD][PAD][PAD][PAD][PAD][PAD][PAD][PAD][PAD][PAD][PAD][PAD][PAD][PAD][PAD][PAD][PAD][PAD][PAD][PAD][PAD][PAD][PAD][PAD][PAD][PAD][PAD][PAD][PAD][PAD][PAD][PAD][PAD][PAD][PAD]\n"
     ]
    }
   ],
   "source": [
    "print(Tokenizer.decode(TRAIN_DATA[1][\"responses\"]))"
   ]
  },
  {
   "cell_type": "code",
   "execution_count": 19,
   "metadata": {},
   "outputs": [
    {
     "name": "stdout",
     "output_type": "stream",
     "text": [
      "Here is a Python solution using list comprehension and error handling:\n",
      "\n",
      "```python\n",
      "def sorted_absolute_values(numbers):\n",
      "    try:\n",
      "        return sorted([abs(num) for num in numbers])\n",
      "    except (TypeError, ValueError):\n",
      "        return 'invalid input'\n",
      "\n",
      "print(sorted_absolute_values([-5, 3, -2, 2, 3, -3, 9, 0, -123]))  # Returns: [0, 2, 2, 3, 3, 3, 5, 9, 123]\n",
      "print(sorted_absolute_values([]))  # Returns: []\n",
      "print(sorted_absolute_values('invalid input'))  # Returns: 'invalid input'\n",
      "```\n",
      "\n",
      "This function takes a list of numbers as input, converts them to their absolute values, sorts them and returns this sorted list. If the input is not a list or contains non-integer elements, it returns 'invalid input'.[EOS][PAD][PAD][PAD][PAD][PAD][PAD][PAD][PAD][PAD][PAD][PAD][PAD][PAD][PAD][PAD][PAD][PAD][PAD][PAD][PAD][PAD][PAD][PAD][PAD][PAD][PAD][PAD][PAD][PAD][PAD][PAD][PAD][PAD][PAD][PAD][PAD][PAD][PAD][PAD][PAD][PAD][PAD][PAD][PAD][PAD][PAD][PAD][PAD][PAD][PAD][PAD][PAD][PAD][PAD][PAD][PAD][PAD][PAD][PAD][PAD][PAD][PAD][PAD][PAD][PAD][PAD][PAD][PAD][PAD][PAD][PAD][PAD][PAD][PAD][PAD][PAD][PAD][PAD][PAD][PAD][PAD][PAD][PAD][PAD][PAD][PAD][PAD][PAD][PAD][PAD][PAD][PAD][PAD][PAD][PAD][PAD][PAD][PAD][PAD][PAD][PAD][PAD][PAD][PAD][PAD][PAD][PAD][PAD][PAD][PAD][PAD][PAD][PAD][PAD][PAD][PAD][PAD][PAD][PAD][PAD][PAD][PAD][PAD][PAD][PAD][PAD][PAD][PAD][PAD][PAD][PAD][PAD][PAD][PAD][PAD][PAD][PAD][PAD][PAD][PAD][PAD][PAD][PAD][PAD][PAD][PAD][PAD][PAD][PAD][PAD][PAD][PAD][PAD][PAD][PAD][PAD][PAD][PAD][PAD][PAD][PAD][PAD][PAD][PAD][PAD][PAD][PAD][PAD][PAD][PAD][PAD][PAD][PAD][PAD][PAD][PAD][PAD][PAD][PAD][PAD][PAD][PAD][PAD][PAD][PAD][PAD][PAD][PAD][PAD][PAD][PAD][PAD][PAD][PAD][PAD][PAD][PAD][PAD][PAD][PAD][PAD][PAD][PAD][PAD][PAD][PAD][PAD][PAD][PAD][PAD][PAD][PAD][PAD][PAD][PAD][PAD][PAD][PAD][PAD][PAD][PAD][PAD][PAD][PAD][PAD][PAD][PAD][PAD][PAD][PAD][PAD][PAD][PAD][PAD][PAD][PAD][PAD][PAD][PAD][PAD][PAD][PAD][PAD][PAD][PAD][PAD][PAD][PAD][PAD][PAD][PAD][PAD][PAD][PAD][PAD][PAD][PAD][PAD][PAD][PAD][PAD][PAD][PAD][PAD][PAD][PAD][PAD][PAD][PAD][PAD][PAD][PAD][PAD][PAD][PAD][PAD][PAD][PAD][PAD][PAD][PAD][PAD][PAD][PAD][PAD][PAD][PAD][PAD][PAD][PAD][PAD][PAD][PAD][PAD][PAD][PAD][PAD][PAD][PAD][PAD][PAD][PAD][PAD][PAD][PAD][PAD][PAD][PAD][PAD][PAD][PAD][PAD][PAD][PAD][PAD][PAD][PAD][PAD][PAD][PAD][PAD][PAD][PAD][PAD][PAD][PAD][PAD][PAD][PAD][PAD][PAD][PAD][PAD][PAD][PAD][PAD][PAD][PAD][PAD][PAD][PAD][PAD][PAD][PAD][PAD][PAD][PAD][PAD][PAD][PAD][PAD][PAD][PAD][PAD][PAD][PAD][PAD][PAD][PAD][PAD][PAD][PAD][PAD][PAD][PAD][PAD][PAD][PAD][PAD][PAD][PAD][PAD][PAD][PAD][PAD][PAD][PAD][PAD][PAD][PAD][PAD][PAD][PAD][PAD][PAD][PAD][PAD][PAD][PAD][PAD][PAD][PAD][PAD][PAD][PAD][PAD][PAD][PAD][PAD][PAD][PAD][PAD][PAD][PAD][PAD][PAD][PAD][PAD][PAD][PAD][PAD][PAD][PAD][PAD][PAD][PAD][PAD][PAD][PAD][PAD][PAD][PAD][PAD][PAD][PAD][PAD][PAD][PAD][PAD][PAD][PAD][PAD][PAD][PAD][PAD][PAD][PAD][PAD][PAD][PAD][PAD][PAD][PAD][PAD][PAD][PAD][PAD][PAD][PAD][PAD][PAD][PAD][PAD][PAD][PAD][PAD][PAD][PAD][PAD][PAD][PAD][PAD][PAD][PAD][PAD][PAD][PAD][PAD][PAD][PAD][PAD][PAD][PAD][PAD][PAD][PAD][PAD][PAD][PAD][PAD][PAD][PAD][PAD][PAD][PAD][PAD][PAD][PAD][PAD][PAD][PAD][PAD][PAD][PAD][PAD][PAD][PAD][PAD][PAD][PAD][PAD][PAD][PAD][PAD][PAD][PAD][PAD][PAD][PAD][PAD][PAD][PAD][PAD][PAD][PAD][PAD][PAD][PAD][PAD][PAD][PAD][PAD][PAD][PAD][PAD][PAD][PAD][PAD][PAD][PAD][PAD][PAD][PAD][PAD][PAD][PAD][PAD][PAD]\n"
     ]
    }
   ],
   "source": [
    "print(Tokenizer.decode(TRAIN_DATA[1][\"targets\"]))"
   ]
  },
  {
   "cell_type": "code",
   "execution_count": 21,
   "metadata": {},
   "outputs": [],
   "source": [
    "TRAIN_DATA.save_to(\"./data/codegen_data_training.pt\")\n",
    "VAL_DATA.save_to(\"./data/codegen_data_validation.pt\")"
   ]
  },
  {
   "cell_type": "code",
   "execution_count": null,
   "metadata": {},
   "outputs": [],
   "source": []
  }
 ],
 "metadata": {
  "kernelspec": {
   "display_name": "CodeNetSentinel",
   "language": "python",
   "name": "python3"
  },
  "language_info": {
   "codemirror_mode": {
    "name": "ipython",
    "version": 3
   },
   "file_extension": ".py",
   "mimetype": "text/x-python",
   "name": "python",
   "nbconvert_exporter": "python",
   "pygments_lexer": "ipython3",
   "version": "3.9.18"
  }
 },
 "nbformat": 4,
 "nbformat_minor": 2
}
