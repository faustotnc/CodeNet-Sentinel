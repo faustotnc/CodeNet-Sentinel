{
 "cells": [
  {
   "cell_type": "code",
   "execution_count": null,
   "metadata": {},
   "outputs": [],
   "source": [
    "import sys\n",
    "import os\n",
    "\n",
    "# To make our imports work because python relative imports suck\n",
    "current_dir = os.getcwd()\n",
    "parent_dir = os.path.dirname(current_dir)\n",
    "sys.path.append(parent_dir)"
   ]
  },
  {
   "cell_type": "code",
   "execution_count": null,
   "metadata": {},
   "outputs": [],
   "source": [
    "import torch\n",
    "\n",
    "import numpy as np\n",
    "import lightning as L\n",
    "\n",
    "from torch.utils.data import DataLoader\n",
    "from torch.utils.data.sampler import SubsetRandomSampler\n",
    "from lightning.pytorch.loggers import WandbLogger\n",
    "\n",
    "# Local Modules\n",
    "from Architecture import  Tokenizer, VOCAB_SIZE\n",
    "from Architecture.ModelConfig import ModelConfig\n",
    "from Architecture.Decoder import DecoderDataset, DecoderBlock, DecoderModel"
   ]
  },
  {
   "cell_type": "code",
   "execution_count": null,
   "metadata": {},
   "outputs": [],
   "source": [
    "CONFIG = ModelConfig()\n",
    "\n",
    "torch.manual_seed(CONFIG.random_seed)\n",
    "# np.rand\n",
    "torch.__version__"
   ]
  },
  {
   "cell_type": "markdown",
   "metadata": {},
   "source": [
    "## The Data"
   ]
  },
  {
   "cell_type": "code",
   "execution_count": null,
   "metadata": {},
   "outputs": [],
   "source": [
    "dataset = DecoderDataset.load_from(\"./data/decoder_data.pt\")"
   ]
  },
  {
   "cell_type": "code",
   "execution_count": null,
   "metadata": {},
   "outputs": [],
   "source": [
    "dataset_size = len(dataset)\n",
    "indices = list(range(dataset_size))\n",
    "split = int(np.floor(CONFIG.val_split * dataset_size))\n",
    "\n",
    "if CONFIG.shuffle_dataset:\n",
    "    np.random.seed(CONFIG.random_seed)\n",
    "    np.random.shuffle(indices)\n",
    "\n",
    "train_indices, val_indices = indices[split:], indices[:split]\n",
    "\n",
    "# Creating PT data samplers and loaders:\n",
    "train_sampler = SubsetRandomSampler(train_indices)\n",
    "val_sampler = SubsetRandomSampler(val_indices)\n",
    "\n",
    "train_loader = DataLoader(\n",
    "    dataset,\n",
    "    batch_size=CONFIG.batch_size,\n",
    "    sampler=train_sampler,\n",
    "    num_workers=9,\n",
    "    persistent_workers=True\n",
    ")\n",
    "\n",
    "val_loader = DataLoader(\n",
    "    dataset,\n",
    "    batch_size=CONFIG.batch_size,\n",
    "    sampler=val_sampler,\n",
    "    num_workers=9,\n",
    "    persistent_workers=True\n",
    ")\n",
    "\n",
    "del dataset"
   ]
  },
  {
   "cell_type": "code",
   "execution_count": null,
   "metadata": {},
   "outputs": [],
   "source": [
    "print(\"Number of Training Batches:\", len(train_loader))\n",
    "print(\"Number of Validation Batches:\", len(val_loader))"
   ]
  },
  {
   "cell_type": "code",
   "execution_count": null,
   "metadata": {},
   "outputs": [],
   "source": [
    "sample_batch = next(iter(val_loader))\n",
    "print(sample_batch.keys(), \"\\n\")\n",
    "\n",
    "for key, item in sample_batch.items():\n",
    "    print(f\"{key}:\".ljust(24), item.shape)"
   ]
  },
  {
   "cell_type": "markdown",
   "metadata": {},
   "source": [
    "## The Model"
   ]
  },
  {
   "cell_type": "code",
   "execution_count": null,
   "metadata": {},
   "outputs": [],
   "source": [
    "# model\n",
    "transformer = DecoderModel(\n",
    "    decoder_block=DecoderBlock,\n",
    "    n_layers=CONFIG.n_layers,\n",
    "    n_head=CONFIG.n_head,\n",
    "    n_dim=CONFIG.n_dim,\n",
    "    max_seq_len=CONFIG.max_seq_len,\n",
    "    mlp_dropout=CONFIG.mlp_dropout,\n",
    "    attn_dropout=CONFIG.attn_dropout,\n",
    "    vocab_size=VOCAB_SIZE,\n",
    "    learning_rate=CONFIG.learning_rate,\n",
    "    min_learning_rate=CONFIG.min_learning_rate,\n",
    "    weight_decay=CONFIG.weight_decay,\n",
    "    beta1=CONFIG.beta1,\n",
    "    beta2=CONFIG.beta2,\n",
    "    bias=CONFIG.bias,\n",
    "    log_interval=CONFIG.log_interval\n",
    ")\n",
    "\n",
    "# logging\n",
    "if CONFIG.wandb_log:\n",
    "    wandb_logger = WandbLogger(\n",
    "        project=CONFIG.wandb_project_name + \"-decoder\",\n",
    "        name=CONFIG.wandb_run_name,\n",
    "        config=CONFIG\n",
    "    )\n",
    "\n",
    "    # log gradients and model topology\n",
    "    wandb_logger.watch(transformer)\n",
    "\n",
    "# Define the trainer\n",
    "trainer = L.Trainer(\n",
    "    default_root_dir=\"./checkpoints/\",\n",
    "    max_epochs=CONFIG.num_epochs,\n",
    "    val_check_interval=CONFIG.log_interval,\n",
    "    log_every_n_steps=1,\n",
    "    accumulate_grad_batches=CONFIG.grad_accumulation,\n",
    "    gradient_clip_val=CONFIG.grad_clip,\n",
    "    profiler=\"simple\",\n",
    "    logger=wandb_logger,\n",
    "    # precision=\"16-mixed\"\n",
    ")\n",
    "\n",
    "# train model\n",
    "trainer.fit(\n",
    "    model=transformer,\n",
    "    train_dataloaders=train_loader,\n",
    "    val_dataloaders=val_loader\n",
    ")"
   ]
  }
 ],
 "metadata": {
  "kernelspec": {
   "display_name": "nanoGPT",
   "language": "python",
   "name": "python3"
  },
  "language_info": {
   "codemirror_mode": {
    "name": "ipython",
    "version": 3
   },
   "file_extension": ".py",
   "mimetype": "text/x-python",
   "name": "python",
   "nbconvert_exporter": "python",
   "pygments_lexer": "ipython3",
   "version": "3.9.18"
  }
 },
 "nbformat": 4,
 "nbformat_minor": 2
}
