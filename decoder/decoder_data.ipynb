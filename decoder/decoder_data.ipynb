{
 "cells": [
  {
   "cell_type": "code",
   "execution_count": 1,
   "metadata": {},
   "outputs": [],
   "source": [
    "import sys\n",
    "import os\n",
    "\n",
    "# To make our imports work because python relative imports suck\n",
    "current_dir = os.getcwd()\n",
    "parent_dir = os.path.dirname(current_dir)\n",
    "sys.path.append(parent_dir)"
   ]
  },
  {
   "cell_type": "code",
   "execution_count": 2,
   "metadata": {},
   "outputs": [
    {
     "name": "stderr",
     "output_type": "stream",
     "text": [
      "/Users/faustogerman/miniforge3/envs/CodeNetSentinel/lib/python3.9/site-packages/tqdm/auto.py:21: TqdmWarning: IProgress not found. Please update jupyter and ipywidgets. See https://ipywidgets.readthedocs.io/en/stable/user_install.html\n",
      "  from .autonotebook import tqdm as notebook_tqdm\n"
     ]
    }
   ],
   "source": [
    "import re\n",
    "import torch\n",
    "\n",
    "import pandas as pd\n",
    "\n",
    "from datasets import load_dataset\n",
    "from tqdm import tqdm\n",
    "\n",
    "# Local Modules\n",
    "from Architecture import Tokenizer, VOCAB_SIZE\n",
    "from Architecture.ModelConfig import ModelConfig\n",
    "from Architecture.Decoder import DecoderDataset"
   ]
  },
  {
   "cell_type": "code",
   "execution_count": 3,
   "metadata": {},
   "outputs": [
    {
     "data": {
      "text/plain": [
       "'2.1.2'"
      ]
     },
     "execution_count": 3,
     "metadata": {},
     "output_type": "execute_result"
    }
   ],
   "source": [
    "CONFIG = ModelConfig()\n",
    "\n",
    "torch.manual_seed(CONFIG.random_seed)\n",
    "# np.rand\n",
    "torch.__version__"
   ]
  },
  {
   "cell_type": "code",
   "execution_count": 4,
   "metadata": {},
   "outputs": [
    {
     "data": {
      "text/html": [
       "<div>\n",
       "<style scoped>\n",
       "    .dataframe tbody tr th:only-of-type {\n",
       "        vertical-align: middle;\n",
       "    }\n",
       "\n",
       "    .dataframe tbody tr th {\n",
       "        vertical-align: top;\n",
       "    }\n",
       "\n",
       "    .dataframe thead th {\n",
       "        text-align: right;\n",
       "    }\n",
       "</style>\n",
       "<table border=\"1\" class=\"dataframe\">\n",
       "  <thead>\n",
       "    <tr style=\"text-align: right;\">\n",
       "      <th></th>\n",
       "      <th>programming_language</th>\n",
       "      <th>response</th>\n",
       "    </tr>\n",
       "  </thead>\n",
       "  <tbody>\n",
       "    <tr>\n",
       "      <th>0</th>\n",
       "      <td>C#</td>\n",
       "      <td>\\nHere's some sample code that demonstrates ho...</td>\n",
       "    </tr>\n",
       "    <tr>\n",
       "      <th>1</th>\n",
       "      <td>Julia</td>\n",
       "      <td>\\nHere is a possible implementation of this fu...</td>\n",
       "    </tr>\n",
       "    <tr>\n",
       "      <th>2</th>\n",
       "      <td>TypeScript</td>\n",
       "      <td>\\nHere is a possible implementation of your re...</td>\n",
       "    </tr>\n",
       "    <tr>\n",
       "      <th>3</th>\n",
       "      <td>C#</td>\n",
       "      <td>\\nHere's some sample code written in C#:\\n\\n  ...</td>\n",
       "    </tr>\n",
       "    <tr>\n",
       "      <th>4</th>\n",
       "      <td>Ruby</td>\n",
       "      <td>\\nHere is some sample ruby code which implemen...</td>\n",
       "    </tr>\n",
       "    <tr>\n",
       "      <th>...</th>\n",
       "      <td>...</td>\n",
       "      <td>...</td>\n",
       "    </tr>\n",
       "    <tr>\n",
       "      <th>699995</th>\n",
       "      <td>JavaScript</td>\n",
       "      <td>\\nHere is some sample Javascript code which de...</td>\n",
       "    </tr>\n",
       "    <tr>\n",
       "      <th>699996</th>\n",
       "      <td>relation database and SQL</td>\n",
       "      <td>\\nHere is a possible relational database schem...</td>\n",
       "    </tr>\n",
       "    <tr>\n",
       "      <th>699997</th>\n",
       "      <td>C++</td>\n",
       "      <td>\\nHere is some sample C++ code which implement...</td>\n",
       "    </tr>\n",
       "    <tr>\n",
       "      <th>699998</th>\n",
       "      <td>Rust</td>\n",
       "      <td>\\nHere is some sample Rust code which implemen...</td>\n",
       "    </tr>\n",
       "    <tr>\n",
       "      <th>699999</th>\n",
       "      <td>C++</td>\n",
       "      <td>\\nHere is a possible implementation of such a ...</td>\n",
       "    </tr>\n",
       "  </tbody>\n",
       "</table>\n",
       "<p>700000 rows × 2 columns</p>\n",
       "</div>"
      ],
      "text/plain": [
       "             programming_language  \\\n",
       "0                              C#   \n",
       "1                           Julia   \n",
       "2                      TypeScript   \n",
       "3                              C#   \n",
       "4                            Ruby   \n",
       "...                           ...   \n",
       "699995                 JavaScript   \n",
       "699996  relation database and SQL   \n",
       "699997                        C++   \n",
       "699998                       Rust   \n",
       "699999                        C++   \n",
       "\n",
       "                                                 response  \n",
       "0       \\nHere's some sample code that demonstrates ho...  \n",
       "1       \\nHere is a possible implementation of this fu...  \n",
       "2       \\nHere is a possible implementation of your re...  \n",
       "3       \\nHere's some sample code written in C#:\\n\\n  ...  \n",
       "4       \\nHere is some sample ruby code which implemen...  \n",
       "...                                                   ...  \n",
       "699995  \\nHere is some sample Javascript code which de...  \n",
       "699996  \\nHere is a possible relational database schem...  \n",
       "699997  \\nHere is some sample C++ code which implement...  \n",
       "699998  \\nHere is some sample Rust code which implemen...  \n",
       "699999  \\nHere is a possible implementation of such a ...  \n",
       "\n",
       "[700000 rows x 2 columns]"
      ]
     },
     "execution_count": 4,
     "metadata": {},
     "output_type": "execute_result"
    }
   ],
   "source": [
    "dataset = load_dataset(\"Safurai/Code-Instruct-700k\")\n",
    "dataset = pd.DataFrame(dataset[\"train\"])[[\"programming_language\", \"response\"]]\n",
    "\n",
    "dataset"
   ]
  },
  {
   "cell_type": "code",
   "execution_count": 5,
   "metadata": {},
   "outputs": [
    {
     "data": {
      "text/html": [
       "<div>\n",
       "<style scoped>\n",
       "    .dataframe tbody tr th:only-of-type {\n",
       "        vertical-align: middle;\n",
       "    }\n",
       "\n",
       "    .dataframe tbody tr th {\n",
       "        vertical-align: top;\n",
       "    }\n",
       "\n",
       "    .dataframe thead th {\n",
       "        text-align: right;\n",
       "    }\n",
       "</style>\n",
       "<table border=\"1\" class=\"dataframe\">\n",
       "  <thead>\n",
       "    <tr style=\"text-align: right;\">\n",
       "      <th></th>\n",
       "      <th>programming_language</th>\n",
       "      <th>response</th>\n",
       "    </tr>\n",
       "  </thead>\n",
       "  <tbody>\n",
       "    <tr>\n",
       "      <th>0</th>\n",
       "      <td>C#</td>\n",
       "      <td>[BOS]###c#\\n// Define variables\\nstring custom...</td>\n",
       "    </tr>\n",
       "    <tr>\n",
       "      <th>1</th>\n",
       "      <td>Julia</td>\n",
       "      <td>None</td>\n",
       "    </tr>\n",
       "    <tr>\n",
       "      <th>2</th>\n",
       "      <td>TypeScript</td>\n",
       "      <td>[BOS]###typescript \\nfunction determineExtreme...</td>\n",
       "    </tr>\n",
       "    <tr>\n",
       "      <th>3</th>\n",
       "      <td>C#</td>\n",
       "      <td>[BOS]###csharp\\n    // This function takes two...</td>\n",
       "    </tr>\n",
       "    <tr>\n",
       "      <th>4</th>\n",
       "      <td>Ruby</td>\n",
       "      <td>[BOS]###ruby \\n# Define constants for interest...</td>\n",
       "    </tr>\n",
       "    <tr>\n",
       "      <th>...</th>\n",
       "      <td>...</td>\n",
       "      <td>...</td>\n",
       "    </tr>\n",
       "    <tr>\n",
       "      <th>699995</th>\n",
       "      <td>JavaScript</td>\n",
       "      <td>[BOS]###javascript \\n// Function to determine ...</td>\n",
       "    </tr>\n",
       "    <tr>\n",
       "      <th>699996</th>\n",
       "      <td>relation database and SQL</td>\n",
       "      <td>[BOS]###sql\\n    CREATE TABLE `location` (\\n  ...</td>\n",
       "    </tr>\n",
       "    <tr>\n",
       "      <th>699997</th>\n",
       "      <td>C++</td>\n",
       "      <td>[BOS]###c++\\n#include &lt;iostream&gt;\\nusing namesp...</td>\n",
       "    </tr>\n",
       "    <tr>\n",
       "      <th>699998</th>\n",
       "      <td>Rust</td>\n",
       "      <td>[BOS]###rust\\nfn check_hygiene(consent: bool) ...</td>\n",
       "    </tr>\n",
       "    <tr>\n",
       "      <th>699999</th>\n",
       "      <td>C++</td>\n",
       "      <td>[BOS]###c++\\n// Function to check if high nose...</td>\n",
       "    </tr>\n",
       "  </tbody>\n",
       "</table>\n",
       "<p>700000 rows × 2 columns</p>\n",
       "</div>"
      ],
      "text/plain": [
       "             programming_language  \\\n",
       "0                              C#   \n",
       "1                           Julia   \n",
       "2                      TypeScript   \n",
       "3                              C#   \n",
       "4                            Ruby   \n",
       "...                           ...   \n",
       "699995                 JavaScript   \n",
       "699996  relation database and SQL   \n",
       "699997                        C++   \n",
       "699998                       Rust   \n",
       "699999                        C++   \n",
       "\n",
       "                                                 response  \n",
       "0       [BOS]###c#\\n// Define variables\\nstring custom...  \n",
       "1                                                    None  \n",
       "2       [BOS]###typescript \\nfunction determineExtreme...  \n",
       "3       [BOS]###csharp\\n    // This function takes two...  \n",
       "4       [BOS]###ruby \\n# Define constants for interest...  \n",
       "...                                                   ...  \n",
       "699995  [BOS]###javascript \\n// Function to determine ...  \n",
       "699996  [BOS]###sql\\n    CREATE TABLE `location` (\\n  ...  \n",
       "699997  [BOS]###c++\\n#include <iostream>\\nusing namesp...  \n",
       "699998  [BOS]###rust\\nfn check_hygiene(consent: bool) ...  \n",
       "699999  [BOS]###c++\\n// Function to check if high nose...  \n",
       "\n",
       "[700000 rows x 2 columns]"
      ]
     },
     "execution_count": 5,
     "metadata": {},
     "output_type": "execute_result"
    }
   ],
   "source": [
    "def extract_code(res):\n",
    "    extracted = re.findall('`{3}([\\s\\S]*?)`{3}', res)\n",
    "\n",
    "    # Two major assumptions:\n",
    "    # 1. The code we're interested in is enclosed between triple backticks\n",
    "    # 2. The text between the first triple backticks and the first '\\n' is\n",
    "    #    the name of the programming language in the response\n",
    "    if len(extracted) > 0:\n",
    "        return Tokenizer.bos_token + \"###\" + extracted[0] + Tokenizer.eos_token\n",
    "    else:\n",
    "        return None\n",
    "\n",
    "dataset['response'] = dataset['response'].apply(extract_code)\n",
    "\n",
    "dataset"
   ]
  },
  {
   "cell_type": "code",
   "execution_count": 6,
   "metadata": {},
   "outputs": [
    {
     "data": {
      "text/plain": [
       "146679    [BOS]###typescript\\nfunction transformExtremeE...\n",
       "187448    [BOS]###ruby \\n# Define constants for exam typ...\n",
       "302090    [BOS]###c#\\n    // Function Name: CalculateExt...\n",
       "164188    [BOS]###rust\\n    fn check_low_fitness(reliabi...\n",
       "71775     [BOS]###python \\ndef display_high_clothing_sta...\n",
       "                                ...                        \n",
       "682844    [BOS]###sql\\n    CREATE TABLE IF NOT EXISTS `c...\n",
       "441806    [BOS]###go \\npackage main\\nimport \"fmt\"\\nfunc ...\n",
       "647054    [BOS]###julia\\nmodule CheckExtremeDentalHygien...\n",
       "405504    [BOS]###rust \\nfn transform_high_food_hygiene(...\n",
       "305484    [BOS]###javascript\\n    function checkHairCare...\n",
       "Name: response, Length: 200000, dtype: object"
      ]
     },
     "execution_count": 6,
     "metadata": {},
     "output_type": "execute_result"
    }
   ],
   "source": [
    "dataset = dataset[~dataset[\"response\"].isna()].sample(\n",
    "    n=200_000,\n",
    "    random_state=CONFIG.random_seed\n",
    ")[\"response\"]\n",
    "\n",
    "dataset"
   ]
  },
  {
   "cell_type": "code",
   "execution_count": 7,
   "metadata": {},
   "outputs": [
    {
     "name": "stderr",
     "output_type": "stream",
     "text": [
      "100%|██████████| 3125/3125 [01:13<00:00, 42.24it/s]\n"
     ]
    }
   ],
   "source": [
    "tokenized_sequences = {\n",
    "    \"inputs\": [],\n",
    "    \"attn_masks\": [],\n",
    "    \"targets\": []\n",
    "}\n",
    "\n",
    "tokenizer_batch_size = 64\n",
    "for idx_start in tqdm(range(0, len(dataset), tokenizer_batch_size)):\n",
    "    idx_end = idx_start+tokenizer_batch_size\n",
    "\n",
    "    tokenized_batch = Tokenizer.batch_encode_plus(\n",
    "        batch_text_or_text_pairs=dataset[idx_start:idx_end].tolist(),\n",
    "        truncation=True,\n",
    "        max_length=CONFIG.max_seq_len + 1, # +1 to account for target shift\n",
    "        padding=\"max_length\",\n",
    "        stride=CONFIG.tokenized_stride,\n",
    "        return_tensors=\"pt\",\n",
    "        return_overflowing_tokens=True,\n",
    "        return_attention_mask=True\n",
    "    )\n",
    "\n",
    "    tokenized_sequences[\"inputs\"].extend(tokenized_batch[\"input_ids\"][:, :-1])\n",
    "    tokenized_sequences[\"attn_masks\"].extend(~(tokenized_batch[\"attention_mask\"][:, :-1].bool()))\n",
    "    tokenized_sequences[\"targets\"].extend(tokenized_batch[\"input_ids\"][:, 1:])"
   ]
  },
  {
   "cell_type": "code",
   "execution_count": 8,
   "metadata": {},
   "outputs": [
    {
     "data": {
      "text/plain": [
       "220822"
      ]
     },
     "execution_count": 8,
     "metadata": {},
     "output_type": "execute_result"
    }
   ],
   "source": [
    "DATA = DecoderDataset(tokenized_sequences, VOCAB_SIZE)\n",
    "len(DATA)"
   ]
  },
  {
   "cell_type": "code",
   "execution_count": 9,
   "metadata": {},
   "outputs": [
    {
     "data": {
      "text/plain": [
       "array([[<Axes: title={'center': 'Input Lengths'}>]], dtype=object)"
      ]
     },
     "execution_count": 9,
     "metadata": {},
     "output_type": "execute_result"
    },
    {
     "data": {
      "image/png": "[encoded data removed]",
      "text/plain": [
       "<Figure size 640x480 with 1 Axes>"
      ]
     },
     "metadata": {},
     "output_type": "display_data"
    }
   ],
   "source": [
    "pd.DataFrame(CONFIG.max_seq_len - DATA.attn_masks.sum(axis=1), columns=[\"Input Lengths\"]).hist()"
   ]
  },
  {
   "cell_type": "code",
   "execution_count": 10,
   "metadata": {},
   "outputs": [
    {
     "name": "stdout",
     "output_type": "stream",
     "text": [
      "[BOS]###typescript\n",
      "function transformExtremeEarHygiene(dryRun = false) {\n",
      "  // Define variables\n",
      "  let actionTaken = \"\";\n",
      "\n",
      "  // Determine whether ear wax removal is necessary\n",
      "  const needsRemoval = true;\n",
      "  \n",
      "  // If dry run is not requested, determine appropriate course of action \n",
      "  if (!dryRun && needsRemoval) {\n",
      "    actionTaken = \"Have patient use cotton swabs gently to remove excess ear wax\";\n",
      "  } else if (dryRun) {\n",
      "    console.log(\"Dry Run: No action taken\");\n",
      "  } else {\n",
      "    actionTaken = \"No action needed - no evidence of ear wax buildup\";\n",
      "  }\n",
      "\n",
      "  return `Action Taken: ${actionTaken}`;\n",
      "}\n",
      "\n",
      "// Call the function and print the result\n",
      "console.log(transformExtremeEarHygiene());  // Action Taken: Have patient use cotton swabs gently to remove excess ear wax\n",
      "console.log(transformExtremeEarHygiene(true)); // Dry Run: No action taken\n",
      "[EOS][PAD][PAD][PAD][PAD][PAD][PAD][PAD][PAD][PAD][PAD][PAD][PAD][PAD][PAD][PAD][PAD][PAD][PAD][PAD][PAD][PAD][PAD][PAD][PAD][PAD][PAD][PAD][PAD][PAD][PAD][PAD][PAD][PAD][PAD][PAD][PAD][PAD][PAD][PAD][PAD][PAD][PAD][PAD][PAD][PAD][PAD][PAD][PAD][PAD][PAD][PAD][PAD][PAD][PAD][PAD][PAD][PAD][PAD][PAD][PAD][PAD][PAD][PAD][PAD][PAD][PAD][PAD][PAD][PAD][PAD][PAD][PAD][PAD][PAD][PAD][PAD][PAD][PAD][PAD][PAD][PAD][PAD][PAD][PAD][PAD][PAD][PAD][PAD][PAD][PAD][PAD][PAD][PAD][PAD][PAD][PAD][PAD][PAD][PAD][PAD][PAD][PAD][PAD][PAD][PAD][PAD][PAD][PAD][PAD][PAD][PAD][PAD][PAD][PAD][PAD][PAD][PAD][PAD][PAD][PAD][PAD][PAD][PAD][PAD][PAD][PAD][PAD][PAD][PAD][PAD][PAD][PAD][PAD][PAD][PAD][PAD][PAD][PAD][PAD][PAD][PAD][PAD][PAD][PAD][PAD][PAD][PAD][PAD][PAD][PAD][PAD][PAD][PAD][PAD][PAD][PAD][PAD][PAD][PAD][PAD][PAD][PAD][PAD][PAD][PAD][PAD][PAD][PAD][PAD][PAD][PAD][PAD][PAD][PAD][PAD][PAD][PAD][PAD][PAD][PAD][PAD][PAD][PAD][PAD][PAD][PAD][PAD][PAD][PAD][PAD][PAD][PAD][PAD][PAD][PAD][PAD][PAD][PAD][PAD][PAD][PAD][PAD][PAD][PAD][PAD][PAD][PAD][PAD][PAD][PAD][PAD][PAD][PAD][PAD][PAD][PAD][PAD][PAD][PAD][PAD][PAD][PAD][PAD][PAD][PAD][PAD][PAD][PAD][PAD][PAD][PAD][PAD][PAD][PAD][PAD][PAD][PAD][PAD][PAD][PAD][PAD][PAD][PAD][PAD][PAD][PAD][PAD][PAD][PAD][PAD][PAD][PAD][PAD][PAD][PAD][PAD][PAD][PAD][PAD][PAD][PAD][PAD][PAD][PAD][PAD][PAD][PAD][PAD][PAD][PAD][PAD][PAD][PAD][PAD][PAD][PAD][PAD][PAD][PAD][PAD][PAD][PAD][PAD][PAD][PAD][PAD][PAD][PAD][PAD][PAD][PAD][PAD][PAD][PAD][PAD][PAD][PAD][PAD][PAD][PAD][PAD][PAD][PAD][PAD][PAD][PAD][PAD][PAD][PAD][PAD][PAD][PAD][PAD][PAD][PAD][PAD][PAD][PAD][PAD][PAD][PAD][PAD][PAD][PAD][PAD][PAD][PAD][PAD][PAD][PAD][PAD][PAD][PAD][PAD][PAD][PAD][PAD][PAD][PAD][PAD][PAD][PAD][PAD][PAD][PAD][PAD][PAD][PAD][PAD][PAD][PAD][PAD][PAD][PAD][PAD][PAD][PAD][PAD][PAD][PAD][PAD][PAD][PAD][PAD][PAD][PAD][PAD][PAD][PAD][PAD][PAD][PAD][PAD][PAD][PAD][PAD][PAD][PAD][PAD][PAD][PAD][PAD][PAD][PAD][PAD][PAD][PAD][PAD][PAD][PAD][PAD][PAD][PAD][PAD][PAD][PAD][PAD][PAD][PAD][PAD][PAD][PAD][PAD][PAD][PAD][PAD][PAD][PAD][PAD][PAD][PAD][PAD][PAD][PAD][PAD][PAD][PAD][PAD][PAD][PAD][PAD][PAD][PAD][PAD][PAD][PAD][PAD][PAD][PAD][PAD][PAD][PAD][PAD][PAD][PAD][PAD][PAD][PAD][PAD][PAD][PAD][PAD][PAD][PAD][PAD][PAD][PAD][PAD][PAD][PAD][PAD][PAD][PAD][PAD][PAD][PAD][PAD][PAD][PAD][PAD][PAD][PAD][PAD][PAD][PAD][PAD][PAD][PAD][PAD][PAD][PAD][PAD][PAD][PAD][PAD][PAD][PAD][PAD][PAD][PAD][PAD][PAD][PAD][PAD][PAD][PAD][PAD][PAD][PAD][PAD][PAD][PAD][PAD][PAD][PAD][PAD][PAD][PAD][PAD][PAD][PAD][PAD][PAD][PAD][PAD][PAD][PAD][PAD][PAD][PAD][PAD][PAD][PAD][PAD][PAD][PAD][PAD][PAD][PAD][PAD][PAD][PAD][PAD][PAD][PAD][PAD][PAD][PAD][PAD][PAD][PAD]\n"
     ]
    }
   ],
   "source": [
    "print(Tokenizer.decode(DATA[0][\"inputs\"]))"
   ]
  },
  {
   "cell_type": "code",
   "execution_count": 11,
   "metadata": {},
   "outputs": [
    {
     "name": "stdout",
     "output_type": "stream",
     "text": [
      "###typescript\n",
      "function transformExtremeEarHygiene(dryRun = false) {\n",
      "  // Define variables\n",
      "  let actionTaken = \"\";\n",
      "\n",
      "  // Determine whether ear wax removal is necessary\n",
      "  const needsRemoval = true;\n",
      "  \n",
      "  // If dry run is not requested, determine appropriate course of action \n",
      "  if (!dryRun && needsRemoval) {\n",
      "    actionTaken = \"Have patient use cotton swabs gently to remove excess ear wax\";\n",
      "  } else if (dryRun) {\n",
      "    console.log(\"Dry Run: No action taken\");\n",
      "  } else {\n",
      "    actionTaken = \"No action needed - no evidence of ear wax buildup\";\n",
      "  }\n",
      "\n",
      "  return `Action Taken: ${actionTaken}`;\n",
      "}\n",
      "\n",
      "// Call the function and print the result\n",
      "console.log(transformExtremeEarHygiene());  // Action Taken: Have patient use cotton swabs gently to remove excess ear wax\n",
      "console.log(transformExtremeEarHygiene(true)); // Dry Run: No action taken\n",
      "[EOS][PAD][PAD][PAD][PAD][PAD][PAD][PAD][PAD][PAD][PAD][PAD][PAD][PAD][PAD][PAD][PAD][PAD][PAD][PAD][PAD][PAD][PAD][PAD][PAD][PAD][PAD][PAD][PAD][PAD][PAD][PAD][PAD][PAD][PAD][PAD][PAD][PAD][PAD][PAD][PAD][PAD][PAD][PAD][PAD][PAD][PAD][PAD][PAD][PAD][PAD][PAD][PAD][PAD][PAD][PAD][PAD][PAD][PAD][PAD][PAD][PAD][PAD][PAD][PAD][PAD][PAD][PAD][PAD][PAD][PAD][PAD][PAD][PAD][PAD][PAD][PAD][PAD][PAD][PAD][PAD][PAD][PAD][PAD][PAD][PAD][PAD][PAD][PAD][PAD][PAD][PAD][PAD][PAD][PAD][PAD][PAD][PAD][PAD][PAD][PAD][PAD][PAD][PAD][PAD][PAD][PAD][PAD][PAD][PAD][PAD][PAD][PAD][PAD][PAD][PAD][PAD][PAD][PAD][PAD][PAD][PAD][PAD][PAD][PAD][PAD][PAD][PAD][PAD][PAD][PAD][PAD][PAD][PAD][PAD][PAD][PAD][PAD][PAD][PAD][PAD][PAD][PAD][PAD][PAD][PAD][PAD][PAD][PAD][PAD][PAD][PAD][PAD][PAD][PAD][PAD][PAD][PAD][PAD][PAD][PAD][PAD][PAD][PAD][PAD][PAD][PAD][PAD][PAD][PAD][PAD][PAD][PAD][PAD][PAD][PAD][PAD][PAD][PAD][PAD][PAD][PAD][PAD][PAD][PAD][PAD][PAD][PAD][PAD][PAD][PAD][PAD][PAD][PAD][PAD][PAD][PAD][PAD][PAD][PAD][PAD][PAD][PAD][PAD][PAD][PAD][PAD][PAD][PAD][PAD][PAD][PAD][PAD][PAD][PAD][PAD][PAD][PAD][PAD][PAD][PAD][PAD][PAD][PAD][PAD][PAD][PAD][PAD][PAD][PAD][PAD][PAD][PAD][PAD][PAD][PAD][PAD][PAD][PAD][PAD][PAD][PAD][PAD][PAD][PAD][PAD][PAD][PAD][PAD][PAD][PAD][PAD][PAD][PAD][PAD][PAD][PAD][PAD][PAD][PAD][PAD][PAD][PAD][PAD][PAD][PAD][PAD][PAD][PAD][PAD][PAD][PAD][PAD][PAD][PAD][PAD][PAD][PAD][PAD][PAD][PAD][PAD][PAD][PAD][PAD][PAD][PAD][PAD][PAD][PAD][PAD][PAD][PAD][PAD][PAD][PAD][PAD][PAD][PAD][PAD][PAD][PAD][PAD][PAD][PAD][PAD][PAD][PAD][PAD][PAD][PAD][PAD][PAD][PAD][PAD][PAD][PAD][PAD][PAD][PAD][PAD][PAD][PAD][PAD][PAD][PAD][PAD][PAD][PAD][PAD][PAD][PAD][PAD][PAD][PAD][PAD][PAD][PAD][PAD][PAD][PAD][PAD][PAD][PAD][PAD][PAD][PAD][PAD][PAD][PAD][PAD][PAD][PAD][PAD][PAD][PAD][PAD][PAD][PAD][PAD][PAD][PAD][PAD][PAD][PAD][PAD][PAD][PAD][PAD][PAD][PAD][PAD][PAD][PAD][PAD][PAD][PAD][PAD][PAD][PAD][PAD][PAD][PAD][PAD][PAD][PAD][PAD][PAD][PAD][PAD][PAD][PAD][PAD][PAD][PAD][PAD][PAD][PAD][PAD][PAD][PAD][PAD][PAD][PAD][PAD][PAD][PAD][PAD][PAD][PAD][PAD][PAD][PAD][PAD][PAD][PAD][PAD][PAD][PAD][PAD][PAD][PAD][PAD][PAD][PAD][PAD][PAD][PAD][PAD][PAD][PAD][PAD][PAD][PAD][PAD][PAD][PAD][PAD][PAD][PAD][PAD][PAD][PAD][PAD][PAD][PAD][PAD][PAD][PAD][PAD][PAD][PAD][PAD][PAD][PAD][PAD][PAD][PAD][PAD][PAD][PAD][PAD][PAD][PAD][PAD][PAD][PAD][PAD][PAD][PAD][PAD][PAD][PAD][PAD][PAD][PAD][PAD][PAD][PAD][PAD][PAD][PAD][PAD][PAD][PAD][PAD][PAD][PAD][PAD][PAD][PAD][PAD][PAD][PAD][PAD][PAD][PAD][PAD][PAD][PAD][PAD][PAD][PAD][PAD][PAD][PAD][PAD][PAD][PAD][PAD][PAD][PAD][PAD][PAD][PAD][PAD][PAD][PAD][PAD][PAD][PAD][PAD][PAD][PAD][PAD][PAD][PAD][PAD][PAD][PAD][PAD][PAD][PAD]\n"
     ]
    }
   ],
   "source": [
    "print(Tokenizer.decode(DATA[0][\"targets\"]))"
   ]
  },
  {
   "cell_type": "code",
   "execution_count": null,
   "metadata": {},
   "outputs": [],
   "source": [
    "DATA.save_to(\"./data/decoder_data.pt\")"
   ]
  },
  {
   "cell_type": "code",
   "execution_count": null,
   "metadata": {},
   "outputs": [],
   "source": []
  }
 ],
 "metadata": {
  "kernelspec": {
   "display_name": "nanoGPT",
   "language": "python",
   "name": "python3"
  },
  "language_info": {
   "codemirror_mode": {
    "name": "ipython",
    "version": 3
   },
   "file_extension": ".py",
   "mimetype": "text/x-python",
   "name": "python",
   "nbconvert_exporter": "python",
   "pygments_lexer": "ipython3",
   "version": "3.9.18"
  }
 },
 "nbformat": 4,
 "nbformat_minor": 2
}
